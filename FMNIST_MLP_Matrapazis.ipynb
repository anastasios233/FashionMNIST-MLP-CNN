{
  "nbformat": 4,
  "nbformat_minor": 0,
  "metadata": {
    "colab": {
      "name": "FMNIST MLP Matrapazis.ipynb",
      "provenance": [],
      "collapsed_sections": [
        "YJGDnnE8ALFh"
      ],
      "authorship_tag": "ABX9TyOT8e3kooNpyk2mmFsOYRD3",
      "include_colab_link": true
    },
    "kernelspec": {
      "name": "python3",
      "display_name": "Python 3"
    },
    "language_info": {
      "name": "python"
    },
    "accelerator": "GPU"
  },
  "cells": [
    {
      "cell_type": "markdown",
      "metadata": {
        "id": "view-in-github",
        "colab_type": "text"
      },
      "source": [
        "<a href=\"https://colab.research.google.com/github/anmatrapazis/FashionMNIST-MLP-CNN/blob/main/FMNIST_MLP_Matrapazis.ipynb\" target=\"_parent\"><img src=\"https://colab.research.google.com/assets/colab-badge.svg\" alt=\"Open In Colab\"/></a>"
      ]
    },
    {
      "cell_type": "code",
      "metadata": {
        "colab": {
          "base_uri": "https://localhost:8080/"
        },
        "id": "MpT_NNqNxWY5",
        "outputId": "0300896f-4257-49ed-9279-45b8329fcacd"
      },
      "source": [
        "from google.colab import drive\n",
        "drive.mount('/content/drive/')"
      ],
      "execution_count": 1,
      "outputs": [
        {
          "output_type": "stream",
          "text": [
            "Mounted at /content/drive/\n"
          ],
          "name": "stdout"
        }
      ]
    },
    {
      "cell_type": "markdown",
      "metadata": {
        "id": "4c9MbSbzxwi8"
      },
      "source": [
        "## Libraries\n"
      ]
    },
    {
      "cell_type": "code",
      "metadata": {
        "id": "WzwyHMKyyeks"
      },
      "source": [
        "import os\n",
        "import gzip\n",
        "import numpy as np\n",
        "import matplotlib.pyplot as plt\n",
        "%matplotlib inline\n",
        "\n",
        "from sklearn.model_selection import train_test_split"
      ],
      "execution_count": 2,
      "outputs": []
    },
    {
      "cell_type": "code",
      "metadata": {
        "colab": {
          "base_uri": "https://localhost:8080/"
        },
        "id": "jPZaStR-RTTp",
        "outputId": "0bf57f77-1996-4084-8b6a-96960f2c5858"
      },
      "source": [
        "pip install keras-tuner --upgrade"
      ],
      "execution_count": 3,
      "outputs": [
        {
          "output_type": "stream",
          "text": [
            "Collecting keras-tuner\n",
            "\u001b[?25l  Downloading https://files.pythonhosted.org/packages/a2/ba/c7a7cda64b67846bde66ffdaaf3199a79d4e35ab6b6f170cc1b7d235646e/keras_tuner-1.0.3-py3-none-any.whl (96kB)\n",
            "\r\u001b[K     |███▍                            | 10kB 22.3MB/s eta 0:00:01\r\u001b[K     |██████▉                         | 20kB 24.0MB/s eta 0:00:01\r\u001b[K     |██████████▏                     | 30kB 25.0MB/s eta 0:00:01\r\u001b[K     |█████████████▋                  | 40kB 28.3MB/s eta 0:00:01\r\u001b[K     |█████████████████               | 51kB 30.7MB/s eta 0:00:01\r\u001b[K     |████████████████████▍           | 61kB 28.5MB/s eta 0:00:01\r\u001b[K     |███████████████████████▊        | 71kB 28.7MB/s eta 0:00:01\r\u001b[K     |███████████████████████████▏    | 81kB 29.5MB/s eta 0:00:01\r\u001b[K     |██████████████████████████████▋ | 92kB 28.7MB/s eta 0:00:01\r\u001b[K     |████████████████████████████████| 102kB 10.6MB/s \n",
            "\u001b[?25hCollecting kt-legacy\n",
            "  Downloading https://files.pythonhosted.org/packages/76/c7/7ebe02ef2495b84a47dc92a4e943260b264b6546783ca23e451bcd8c09c1/kt-legacy-1.0.3.tar.gz\n",
            "Requirement already satisfied, skipping upgrade: scipy in /usr/local/lib/python3.7/dist-packages (from keras-tuner) (1.4.1)\n",
            "Requirement already satisfied, skipping upgrade: ipython in /usr/local/lib/python3.7/dist-packages (from keras-tuner) (5.5.0)\n",
            "Requirement already satisfied, skipping upgrade: tensorboard in /usr/local/lib/python3.7/dist-packages (from keras-tuner) (2.5.0)\n",
            "Requirement already satisfied, skipping upgrade: requests in /usr/local/lib/python3.7/dist-packages (from keras-tuner) (2.23.0)\n",
            "Requirement already satisfied, skipping upgrade: packaging in /usr/local/lib/python3.7/dist-packages (from keras-tuner) (20.9)\n",
            "Requirement already satisfied, skipping upgrade: numpy in /usr/local/lib/python3.7/dist-packages (from keras-tuner) (1.19.5)\n",
            "Requirement already satisfied, skipping upgrade: pickleshare in /usr/local/lib/python3.7/dist-packages (from ipython->keras-tuner) (0.7.5)\n",
            "Requirement already satisfied, skipping upgrade: pexpect; sys_platform != \"win32\" in /usr/local/lib/python3.7/dist-packages (from ipython->keras-tuner) (4.8.0)\n",
            "Requirement already satisfied, skipping upgrade: setuptools>=18.5 in /usr/local/lib/python3.7/dist-packages (from ipython->keras-tuner) (57.0.0)\n",
            "Requirement already satisfied, skipping upgrade: prompt-toolkit<2.0.0,>=1.0.4 in /usr/local/lib/python3.7/dist-packages (from ipython->keras-tuner) (1.0.18)\n",
            "Requirement already satisfied, skipping upgrade: decorator in /usr/local/lib/python3.7/dist-packages (from ipython->keras-tuner) (4.4.2)\n",
            "Requirement already satisfied, skipping upgrade: pygments in /usr/local/lib/python3.7/dist-packages (from ipython->keras-tuner) (2.6.1)\n",
            "Requirement already satisfied, skipping upgrade: traitlets>=4.2 in /usr/local/lib/python3.7/dist-packages (from ipython->keras-tuner) (5.0.5)\n",
            "Requirement already satisfied, skipping upgrade: simplegeneric>0.8 in /usr/local/lib/python3.7/dist-packages (from ipython->keras-tuner) (0.8.1)\n",
            "Requirement already satisfied, skipping upgrade: google-auth<2,>=1.6.3 in /usr/local/lib/python3.7/dist-packages (from tensorboard->keras-tuner) (1.31.0)\n",
            "Requirement already satisfied, skipping upgrade: tensorboard-data-server<0.7.0,>=0.6.0 in /usr/local/lib/python3.7/dist-packages (from tensorboard->keras-tuner) (0.6.1)\n",
            "Requirement already satisfied, skipping upgrade: wheel>=0.26; python_version >= \"3\" in /usr/local/lib/python3.7/dist-packages (from tensorboard->keras-tuner) (0.36.2)\n",
            "Requirement already satisfied, skipping upgrade: google-auth-oauthlib<0.5,>=0.4.1 in /usr/local/lib/python3.7/dist-packages (from tensorboard->keras-tuner) (0.4.4)\n",
            "Requirement already satisfied, skipping upgrade: tensorboard-plugin-wit>=1.6.0 in /usr/local/lib/python3.7/dist-packages (from tensorboard->keras-tuner) (1.8.0)\n",
            "Requirement already satisfied, skipping upgrade: protobuf>=3.6.0 in /usr/local/lib/python3.7/dist-packages (from tensorboard->keras-tuner) (3.12.4)\n",
            "Requirement already satisfied, skipping upgrade: markdown>=2.6.8 in /usr/local/lib/python3.7/dist-packages (from tensorboard->keras-tuner) (3.3.4)\n",
            "Requirement already satisfied, skipping upgrade: absl-py>=0.4 in /usr/local/lib/python3.7/dist-packages (from tensorboard->keras-tuner) (0.12.0)\n",
            "Requirement already satisfied, skipping upgrade: werkzeug>=0.11.15 in /usr/local/lib/python3.7/dist-packages (from tensorboard->keras-tuner) (1.0.1)\n",
            "Requirement already satisfied, skipping upgrade: grpcio>=1.24.3 in /usr/local/lib/python3.7/dist-packages (from tensorboard->keras-tuner) (1.34.1)\n",
            "Requirement already satisfied, skipping upgrade: chardet<4,>=3.0.2 in /usr/local/lib/python3.7/dist-packages (from requests->keras-tuner) (3.0.4)\n",
            "Requirement already satisfied, skipping upgrade: certifi>=2017.4.17 in /usr/local/lib/python3.7/dist-packages (from requests->keras-tuner) (2021.5.30)\n",
            "Requirement already satisfied, skipping upgrade: idna<3,>=2.5 in /usr/local/lib/python3.7/dist-packages (from requests->keras-tuner) (2.10)\n",
            "Requirement already satisfied, skipping upgrade: urllib3!=1.25.0,!=1.25.1,<1.26,>=1.21.1 in /usr/local/lib/python3.7/dist-packages (from requests->keras-tuner) (1.24.3)\n",
            "Requirement already satisfied, skipping upgrade: pyparsing>=2.0.2 in /usr/local/lib/python3.7/dist-packages (from packaging->keras-tuner) (2.4.7)\n",
            "Requirement already satisfied, skipping upgrade: ptyprocess>=0.5 in /usr/local/lib/python3.7/dist-packages (from pexpect; sys_platform != \"win32\"->ipython->keras-tuner) (0.7.0)\n",
            "Requirement already satisfied, skipping upgrade: wcwidth in /usr/local/lib/python3.7/dist-packages (from prompt-toolkit<2.0.0,>=1.0.4->ipython->keras-tuner) (0.2.5)\n",
            "Requirement already satisfied, skipping upgrade: six>=1.9.0 in /usr/local/lib/python3.7/dist-packages (from prompt-toolkit<2.0.0,>=1.0.4->ipython->keras-tuner) (1.15.0)\n",
            "Requirement already satisfied, skipping upgrade: ipython-genutils in /usr/local/lib/python3.7/dist-packages (from traitlets>=4.2->ipython->keras-tuner) (0.2.0)\n",
            "Requirement already satisfied, skipping upgrade: pyasn1-modules>=0.2.1 in /usr/local/lib/python3.7/dist-packages (from google-auth<2,>=1.6.3->tensorboard->keras-tuner) (0.2.8)\n",
            "Requirement already satisfied, skipping upgrade: cachetools<5.0,>=2.0.0 in /usr/local/lib/python3.7/dist-packages (from google-auth<2,>=1.6.3->tensorboard->keras-tuner) (4.2.2)\n",
            "Requirement already satisfied, skipping upgrade: rsa<5,>=3.1.4; python_version >= \"3.6\" in /usr/local/lib/python3.7/dist-packages (from google-auth<2,>=1.6.3->tensorboard->keras-tuner) (4.7.2)\n",
            "Requirement already satisfied, skipping upgrade: requests-oauthlib>=0.7.0 in /usr/local/lib/python3.7/dist-packages (from google-auth-oauthlib<0.5,>=0.4.1->tensorboard->keras-tuner) (1.3.0)\n",
            "Requirement already satisfied, skipping upgrade: importlib-metadata; python_version < \"3.8\" in /usr/local/lib/python3.7/dist-packages (from markdown>=2.6.8->tensorboard->keras-tuner) (4.5.0)\n",
            "Requirement already satisfied, skipping upgrade: pyasn1<0.5.0,>=0.4.6 in /usr/local/lib/python3.7/dist-packages (from pyasn1-modules>=0.2.1->google-auth<2,>=1.6.3->tensorboard->keras-tuner) (0.4.8)\n",
            "Requirement already satisfied, skipping upgrade: oauthlib>=3.0.0 in /usr/local/lib/python3.7/dist-packages (from requests-oauthlib>=0.7.0->google-auth-oauthlib<0.5,>=0.4.1->tensorboard->keras-tuner) (3.1.1)\n",
            "Requirement already satisfied, skipping upgrade: zipp>=0.5 in /usr/local/lib/python3.7/dist-packages (from importlib-metadata; python_version < \"3.8\"->markdown>=2.6.8->tensorboard->keras-tuner) (3.4.1)\n",
            "Requirement already satisfied, skipping upgrade: typing-extensions>=3.6.4; python_version < \"3.8\" in /usr/local/lib/python3.7/dist-packages (from importlib-metadata; python_version < \"3.8\"->markdown>=2.6.8->tensorboard->keras-tuner) (3.7.4.3)\n",
            "Building wheels for collected packages: kt-legacy\n",
            "  Building wheel for kt-legacy (setup.py) ... \u001b[?25l\u001b[?25hdone\n",
            "  Created wheel for kt-legacy: filename=kt_legacy-1.0.3-cp37-none-any.whl size=9569 sha256=321d78eb1e2274279f3e629b30985162df7db0d953ac99e85470fb9d59604f4a\n",
            "  Stored in directory: /root/.cache/pip/wheels/95/99/a8/6b116b0f69be60cc475d1cd36680f3a09f284d86655bb99d93\n",
            "Successfully built kt-legacy\n",
            "Installing collected packages: kt-legacy, keras-tuner\n",
            "Successfully installed keras-tuner-1.0.3 kt-legacy-1.0.3\n"
          ],
          "name": "stdout"
        }
      ]
    },
    {
      "cell_type": "code",
      "metadata": {
        "id": "AzcjYJkq0KC8",
        "colab": {
          "base_uri": "https://localhost:8080/"
        },
        "outputId": "9d7fd76f-8bb6-47a2-89d9-ef28358504b1"
      },
      "source": [
        "import gc\n",
        "import tensorflow as tf\n",
        "from tensorflow import keras\n",
        "\n",
        "from tensorflow.keras.datasets import fashion_mnist\n",
        "from tensorflow.keras.utils import to_categorical\n",
        "\n",
        "from tensorflow.keras import backend as K # Importing Keras backend (by default it is Tensorflow)\n",
        "from tensorflow.keras import layers\n",
        "\n",
        "\n",
        "from tensorflow.keras.optimizers import SGD, Adam\n",
        "from tensorflow.random import set_seed\n",
        "from tensorflow.keras.models import Model # The class used to create a model\n",
        "from keras.callbacks import EarlyStopping\n",
        "\n",
        "from kerastuner.tuners import RandomSearch\n",
        "from tensorflow.keras.layers import Input, Dense,Conv2D, MaxPooling2D, Activation, Flatten, Dense, Dropout\n",
        "\n",
        "#from tensorflow.keras.layers import Input\n",
        "\n"
      ],
      "execution_count": 4,
      "outputs": [
        {
          "output_type": "stream",
          "text": [
            "/usr/local/lib/python3.7/dist-packages/ipykernel_launcher.py:17: DeprecationWarning: `import kerastuner` is deprecated, please use `import keras_tuner`.\n"
          ],
          "name": "stderr"
        }
      ]
    },
    {
      "cell_type": "markdown",
      "metadata": {
        "id": "0MmOUhaVyAPv"
      },
      "source": [
        "## Load data"
      ]
    },
    {
      "cell_type": "markdown",
      "metadata": {
        "id": "0wTqD1aP3r93"
      },
      "source": [
        "> as [tensorflow fashion_mnist](https://www.tensorflow.org/tutorials/keras/classification) shows"
      ]
    },
    {
      "cell_type": "code",
      "metadata": {
        "id": "8j4BVMjOxvwm",
        "colab": {
          "base_uri": "https://localhost:8080/"
        },
        "outputId": "4de2ca69-93c5-45fc-8f0b-aa9eb73f8963"
      },
      "source": [
        "(x_train,y_train),(x_test,y_test)=fashion_mnist.load_data()"
      ],
      "execution_count": 5,
      "outputs": [
        {
          "output_type": "stream",
          "text": [
            "Downloading data from https://storage.googleapis.com/tensorflow/tf-keras-datasets/train-labels-idx1-ubyte.gz\n",
            "32768/29515 [=================================] - 0s 0us/step\n",
            "Downloading data from https://storage.googleapis.com/tensorflow/tf-keras-datasets/train-images-idx3-ubyte.gz\n",
            "26427392/26421880 [==============================] - 0s 0us/step\n",
            "Downloading data from https://storage.googleapis.com/tensorflow/tf-keras-datasets/t10k-labels-idx1-ubyte.gz\n",
            "8192/5148 [===============================================] - 0s 0us/step\n",
            "Downloading data from https://storage.googleapis.com/tensorflow/tf-keras-datasets/t10k-images-idx3-ubyte.gz\n",
            "4423680/4422102 [==============================] - 0s 0us/step\n"
          ],
          "name": "stdout"
        }
      ]
    },
    {
      "cell_type": "code",
      "metadata": {
        "id": "oQjqHTk-ls5H"
      },
      "source": [
        "x_train,x_val,y_train,y_val = train_test_split(x_train,y_train, test_size = 0.2, random_state = 42)"
      ],
      "execution_count": 6,
      "outputs": []
    },
    {
      "cell_type": "code",
      "metadata": {
        "colab": {
          "base_uri": "https://localhost:8080/"
        },
        "id": "H95zHVjV1ffF",
        "outputId": "ef22611c-9387-447e-ec60-8cb1c1707cd0"
      },
      "source": [
        "print('Fashion MNIST Dataset Shape:')\n",
        "print('x_train: ', x_train.shape)\n",
        "print('y_train: ', y_train.shape)\n",
        "print('x_val:  ', x_val.shape)\n",
        "print('y_val:  ', y_val.shape)\n",
        "print('x_test:  ', x_test.shape)\n",
        "print('y_test:  ', y_test.shape)\n"
      ],
      "execution_count": 7,
      "outputs": [
        {
          "output_type": "stream",
          "text": [
            "Fashion MNIST Dataset Shape:\n",
            "x_train:  (48000, 28, 28)\n",
            "y_train:  (48000,)\n",
            "x_val:   (12000, 28, 28)\n",
            "y_val:   (12000,)\n",
            "x_test:   (10000, 28, 28)\n",
            "y_test:   (10000,)\n"
          ],
          "name": "stdout"
        }
      ]
    },
    {
      "cell_type": "code",
      "metadata": {
        "id": "xiFJCBk95PVG"
      },
      "source": [
        "labels = {0:\"T-shirt/top\",\n",
        "          1:\"Trouser\",\n",
        "          2:\"Pullover\",\n",
        "          3:\"Dress\",\n",
        "          4:\"Coat\",\n",
        "          5:\"Sandal\",\n",
        "          6:\"Shirt\",\n",
        "          7:\"Sneaker\",\n",
        "          8:\"Bag\",\n",
        "          9:\"Ankle boot\"\n",
        "}"
      ],
      "execution_count": 8,
      "outputs": []
    },
    {
      "cell_type": "code",
      "metadata": {
        "colab": {
          "base_uri": "https://localhost:8080/",
          "height": 574
        },
        "id": "i35Ve5Pi7mD2",
        "outputId": "04e91eb3-82ce-4e55-adac-8a412a8aa7d1"
      },
      "source": [
        "plt.figure(figsize=(10,10))\n",
        "for i in range(30):\n",
        "    plt.subplot(5,6,i+1)\n",
        "    plt.xticks([])\n",
        "    plt.yticks([])\n",
        "    plt.imshow(x_train[i], cmap=plt.cm.binary)\n",
        "    plt.xlabel(labels[y_train[i]])\n",
        "plt.show()"
      ],
      "execution_count": 9,
      "outputs": [
        {
          "output_type": "display_data",
          "data": {
            "image/png": "[encoded data removed]",
            "text/plain": [
              "<Figure size 720x720 with 30 Axes>"
            ]
          },
          "metadata": {
            "tags": []
          }
        }
      ]
    },
    {
      "cell_type": "markdown",
      "metadata": {
        "id": "3kvz2WvUf2up"
      },
      "source": [
        "## Preprocess for Sequential MLP"
      ]
    },
    {
      "cell_type": "code",
      "metadata": {
        "id": "ibS456fNgAHF"
      },
      "source": [
        "x_train = x_train/255\n",
        "x_val = x_val/255\n",
        "x_test = x_test/255\n",
        "y_train = to_categorical(y_train)\n",
        "y_val = to_categorical(y_val)\n",
        "y_test = to_categorical(y_test)"
      ],
      "execution_count": 10,
      "outputs": []
    },
    {
      "cell_type": "markdown",
      "metadata": {
        "id": "gyXeiLey2D0W"
      },
      "source": [
        "## Clean model"
      ]
    },
    {
      "cell_type": "code",
      "metadata": {
        "id": "NWTMdEtC2CrM"
      },
      "source": [
        "def clean_up(model):\n",
        "    K.clear_session()\n",
        "    del model\n",
        "    gc.collect()"
      ],
      "execution_count": 11,
      "outputs": []
    },
    {
      "cell_type": "code",
      "metadata": {
        "id": "_gSVdxLP2N6F"
      },
      "source": [
        "def plot_history(hs, epochs, metric):\n",
        "    print()\n",
        "    #plt.style.use('dark_background')\n",
        "    plt.rcParams['figure.figsize'] = [15, 8]\n",
        "    plt.rcParams['font.size'] = 16\n",
        "    plt.clf()\n",
        "    for label in hs:\n",
        "        plt.plot(hs[label].history[metric], label='{0:s} train {1:s}'.format(label, metric), linewidth=2)\n",
        "        plt.plot(hs[label].history['val_{0:s}'.format(metric)], label='{0:s} validation {1:s}'.format(label, metric), linewidth=2)\n",
        "    x_ticks = np.arange(0, epochs + 1, epochs / 10)\n",
        "    x_ticks [0] += 1\n",
        "    plt.xticks(x_ticks)\n",
        "    plt.ylim((0, 1))\n",
        "    plt.xlabel('Epochs')\n",
        "    plt.ylabel('Loss' if metric=='loss' else 'Accuracy')\n",
        "    plt.legend()\n",
        "    plt.show()"
      ],
      "execution_count": 12,
      "outputs": []
    },
    {
      "cell_type": "markdown",
      "metadata": {
        "id": "luQEpAGBga5Y"
      },
      "source": [
        "# Sequential MLP"
      ]
    },
    {
      "cell_type": "markdown",
      "metadata": {
        "id": "yWTJAbtQQkxD"
      },
      "source": [
        "1. How many hidden layers?\n",
        "2. Ho many numbers of neurons?\n",
        "3. Learning Rate?"
      ]
    },
    {
      "cell_type": "code",
      "metadata": {
        "id": "FVIuOtSsgZq5"
      },
      "source": [
        "def build_model(hp):\n",
        "\n",
        "  np.random.seed(123) # Define the seed for numpy to have reproducible experiments.\n",
        "  set_seed(1234) # Define the seed for Tensorflow to have reproducible experiments.\n",
        "\n",
        "  model = keras.Sequential()\n",
        "  model.add(Flatten(input_shape = (28,28))) #flattening the image\n",
        "  model.add(Dropout(hp.Float('dropout', min_value = 0, max_value = 0.3, step=0.1)))\n",
        "  for i in range(hp.Int('num_layers',1,4)):\n",
        "#    model.add(Dense(units = hp.Int('hidden_units '+str(i),\n",
        "#                              min_value = 32,\n",
        "#                              max_value = 512,\n",
        "#                              step = 32), \n",
        "#                    activation='relu'))\n",
        "    \n",
        "    model.add(Dense(units = hp.Choice('hidden_units '+str(i), [512,256,128,64,32]), \n",
        "                    activation='relu'))\n",
        "\n",
        "    model.add(Dropout(hp.Float('dropout_hidden '+str(i),\n",
        "                               min_value = 0,\n",
        "                               max_value = 0.4,\n",
        "                               step=0.1)))\n",
        "  model.add(Dense(10, activation='softmax'))\n",
        "\n",
        "  hp_learning_rate = hp.Choice('learning_rate', [1e-2,1e-3])\n",
        "\n",
        "  optimizer = keras.optimizers.Adam(learning_rate = hp_learning_rate)\n",
        "  \n",
        "  \n",
        "\n",
        "  model.compile(\n",
        "      optimizer = optimizer,\n",
        "      loss = 'categorical_crossentropy',\n",
        "      metrics = ['accuracy']\n",
        "  )\n",
        "  return model"
      ],
      "execution_count": 13,
      "outputs": []
    },
    {
      "cell_type": "code",
      "metadata": {
        "id": "YYb10PzZREke"
      },
      "source": [
        "tuner = RandomSearch(\n",
        "    build_model,\n",
        "    objective = 'val_loss',\n",
        "    max_trials = 5,\n",
        "    executions_per_trial=2,\n",
        "    directory = 'my_dir_mlp',\n",
        "    project_name = 'fmnist2')"
      ],
      "execution_count": 14,
      "outputs": []
    },
    {
      "cell_type": "code",
      "metadata": {
        "colab": {
          "base_uri": "https://localhost:8080/"
        },
        "id": "VBk69LyTcmel",
        "outputId": "4eef9c01-7d01-49c7-dea7-ac94fde48351"
      },
      "source": [
        "es = EarlyStopping(monitor='val_accuracy', patience = 5)\n",
        "with tf.device('/device:GPU:0'):\n",
        "  tuner.search(x_train, y_train,\n",
        "              epochs=50,\n",
        "              validation_data=(x_val, y_val), \n",
        "              callbacks=[es])\n"
      ],
      "execution_count": 15,
      "outputs": [
        {
          "output_type": "stream",
          "text": [
            "Trial 5 Complete [00h 04m 25s]\n",
            "val_loss: 0.5204417705535889\n",
            "\n",
            "Best val_loss So Far: 0.31550535559654236\n",
            "Total elapsed time: 00h 13m 02s\n",
            "INFO:tensorflow:Oracle triggered exit\n"
          ],
          "name": "stdout"
        }
      ]
    },
    {
      "cell_type": "markdown",
      "metadata": {
        "id": "g26-5ubQ5TDR"
      },
      "source": [
        "> In general, I noticed during the tuning process that a model that goes from general to specific (more hidden units at the first hidden layers, less hidden units at the last hidden layers) has better performance that the models that follows specific to general pattern."
      ]
    },
    {
      "cell_type": "code",
      "metadata": {
        "colab": {
          "base_uri": "https://localhost:8080/"
        },
        "id": "jsvTcIF3BNNC",
        "outputId": "eea9e8f8-65ba-44d8-bd5d-18d208fd9d7b"
      },
      "source": [
        "# Get the optimal hyperparameters\n",
        "import pandas as pd\n",
        "best_hps=tuner.get_best_hyperparameters(num_trials=3)[0]\n",
        "tuner.results_summary()"
      ],
      "execution_count": 45,
      "outputs": [
        {
          "output_type": "stream",
          "text": [
            "Results summary\n",
            "Results in my_dir_mlp/fmnist2\n",
            "Showing 10 best trials\n",
            "Objective(name='val_loss', direction='min')\n",
            "Trial summary\n",
            "Hyperparameters:\n",
            "dropout: 0.1\n",
            "num_layers: 2\n",
            "hidden_units 0: 128\n",
            "dropout_hidden 0: 0.30000000000000004\n",
            "learning_rate: 0.001\n",
            "hidden_units 1: 32\n",
            "dropout_hidden 1: 0.1\n",
            "hidden_units 2: 512\n",
            "dropout_hidden 2: 0.1\n",
            "Score: 0.31550535559654236\n",
            "Trial summary\n",
            "Hyperparameters:\n",
            "dropout: 0.0\n",
            "num_layers: 1\n",
            "hidden_units 0: 512\n",
            "dropout_hidden 0: 0.2\n",
            "learning_rate: 0.01\n",
            "Score: 0.41555431485176086\n",
            "Trial summary\n",
            "Hyperparameters:\n",
            "dropout: 0.0\n",
            "num_layers: 1\n",
            "hidden_units 0: 32\n",
            "dropout_hidden 0: 0.2\n",
            "learning_rate: 0.01\n",
            "Score: 0.45240962505340576\n",
            "Trial summary\n",
            "Hyperparameters:\n",
            "dropout: 0.30000000000000004\n",
            "num_layers: 3\n",
            "hidden_units 0: 128\n",
            "dropout_hidden 0: 0.1\n",
            "learning_rate: 0.01\n",
            "hidden_units 1: 32\n",
            "dropout_hidden 1: 0.2\n",
            "hidden_units 2: 32\n",
            "dropout_hidden 2: 0.2\n",
            "Score: 0.5204417705535889\n",
            "Trial summary\n",
            "Hyperparameters:\n",
            "dropout: 0.1\n",
            "num_layers: 3\n",
            "hidden_units 0: 32\n",
            "dropout_hidden 0: 0.4\n",
            "learning_rate: 0.01\n",
            "hidden_units 1: 512\n",
            "dropout_hidden 1: 0.0\n",
            "hidden_units 2: 512\n",
            "dropout_hidden 2: 0.0\n",
            "Score: 1.1665409803390503\n"
          ],
          "name": "stdout"
        }
      ]
    },
    {
      "cell_type": "code",
      "metadata": {
        "colab": {
          "base_uri": "https://localhost:8080/"
        },
        "id": "ohIDVT3lBbyg",
        "outputId": "78e70a5e-d472-40fc-b8e6-a5e7366b2225"
      },
      "source": [
        "# Build the model with the optimal hyperparameters and train it on the data for 50 epochs\n",
        "model = tuner.hypermodel.build(best_hps)\n",
        "# Early stopping\n",
        "es = EarlyStopping(monitor='val_accuracy', mode='max',patience=10, verbose=1)\n",
        "#History\n",
        "with tf.device('/device:GPU:0'):\n",
        "  history = model.fit(\n",
        "        x_train, \n",
        "        y_train,\n",
        "        validation_data=(x_val, y_val),\n",
        "        batch_size=8192,\n",
        "        epochs=250,\n",
        "        shuffle=True,\n",
        "        callbacks=[es]\n",
        "        )\n",
        "\n",
        "val_acc_per_epoch = history.history['val_accuracy']\n",
        "best_epoch = val_acc_per_epoch.index(max(val_acc_per_epoch)) + 1\n",
        "print('Best epoch: %d' % (best_epoch,))"
      ],
      "execution_count": 17,
      "outputs": [
        {
          "output_type": "stream",
          "text": [
            "Epoch 1/250\n",
            "6/6 [==============================] - 1s 59ms/step - loss: 2.1349 - accuracy: 0.2215 - val_loss: 1.6954 - val_accuracy: 0.4572\n",
            "Epoch 2/250\n",
            "6/6 [==============================] - 0s 22ms/step - loss: 1.6463 - accuracy: 0.4250 - val_loss: 1.3104 - val_accuracy: 0.5649\n",
            "Epoch 3/250\n",
            "6/6 [==============================] - 0s 22ms/step - loss: 1.3639 - accuracy: 0.5060 - val_loss: 1.0966 - val_accuracy: 0.5999\n",
            "Epoch 4/250\n",
            "6/6 [==============================] - 0s 24ms/step - loss: 1.1846 - accuracy: 0.5755 - val_loss: 0.9633 - val_accuracy: 0.6988\n",
            "Epoch 5/250\n",
            "6/6 [==============================] - 0s 23ms/step - loss: 1.0566 - accuracy: 0.6440 - val_loss: 0.8595 - val_accuracy: 0.7275\n",
            "Epoch 6/250\n",
            "6/6 [==============================] - 0s 23ms/step - loss: 0.9585 - accuracy: 0.6813 - val_loss: 0.7716 - val_accuracy: 0.7458\n",
            "Epoch 7/250\n",
            "6/6 [==============================] - 0s 23ms/step - loss: 0.8713 - accuracy: 0.7070 - val_loss: 0.7046 - val_accuracy: 0.7613\n",
            "Epoch 8/250\n",
            "6/6 [==============================] - 0s 23ms/step - loss: 0.8077 - accuracy: 0.7269 - val_loss: 0.6486 - val_accuracy: 0.7791\n",
            "Epoch 9/250\n",
            "6/6 [==============================] - 0s 23ms/step - loss: 0.7549 - accuracy: 0.7424 - val_loss: 0.6131 - val_accuracy: 0.7858\n",
            "Epoch 10/250\n",
            "6/6 [==============================] - 0s 23ms/step - loss: 0.7116 - accuracy: 0.7557 - val_loss: 0.5816 - val_accuracy: 0.8008\n",
            "Epoch 11/250\n",
            "6/6 [==============================] - 0s 23ms/step - loss: 0.6830 - accuracy: 0.7673 - val_loss: 0.5587 - val_accuracy: 0.8067\n",
            "Epoch 12/250\n",
            "6/6 [==============================] - 0s 25ms/step - loss: 0.6542 - accuracy: 0.7763 - val_loss: 0.5404 - val_accuracy: 0.8116\n",
            "Epoch 13/250\n",
            "6/6 [==============================] - 0s 22ms/step - loss: 0.6303 - accuracy: 0.7833 - val_loss: 0.5241 - val_accuracy: 0.8182\n",
            "Epoch 14/250\n",
            "6/6 [==============================] - 0s 24ms/step - loss: 0.6135 - accuracy: 0.7888 - val_loss: 0.5132 - val_accuracy: 0.8218\n",
            "Epoch 15/250\n",
            "6/6 [==============================] - 0s 22ms/step - loss: 0.5945 - accuracy: 0.7965 - val_loss: 0.4966 - val_accuracy: 0.8253\n",
            "Epoch 16/250\n",
            "6/6 [==============================] - 0s 23ms/step - loss: 0.5749 - accuracy: 0.8036 - val_loss: 0.4845 - val_accuracy: 0.8305\n",
            "Epoch 17/250\n",
            "6/6 [==============================] - 0s 23ms/step - loss: 0.5654 - accuracy: 0.8050 - val_loss: 0.4760 - val_accuracy: 0.8339\n",
            "Epoch 18/250\n",
            "6/6 [==============================] - 0s 23ms/step - loss: 0.5582 - accuracy: 0.8071 - val_loss: 0.4673 - val_accuracy: 0.8373\n",
            "Epoch 19/250\n",
            "6/6 [==============================] - 0s 24ms/step - loss: 0.5434 - accuracy: 0.8126 - val_loss: 0.4605 - val_accuracy: 0.8384\n",
            "Epoch 20/250\n",
            "6/6 [==============================] - 0s 23ms/step - loss: 0.5325 - accuracy: 0.8166 - val_loss: 0.4513 - val_accuracy: 0.8390\n",
            "Epoch 21/250\n",
            "6/6 [==============================] - 0s 25ms/step - loss: 0.5241 - accuracy: 0.8177 - val_loss: 0.4444 - val_accuracy: 0.8424\n",
            "Epoch 22/250\n",
            "6/6 [==============================] - 0s 23ms/step - loss: 0.5178 - accuracy: 0.8195 - val_loss: 0.4398 - val_accuracy: 0.8466\n",
            "Epoch 23/250\n",
            "6/6 [==============================] - 0s 22ms/step - loss: 0.5083 - accuracy: 0.8236 - val_loss: 0.4326 - val_accuracy: 0.8475\n",
            "Epoch 24/250\n",
            "6/6 [==============================] - 0s 22ms/step - loss: 0.5045 - accuracy: 0.8253 - val_loss: 0.4271 - val_accuracy: 0.8483\n",
            "Epoch 25/250\n",
            "6/6 [==============================] - 0s 22ms/step - loss: 0.4957 - accuracy: 0.8282 - val_loss: 0.4208 - val_accuracy: 0.8504\n",
            "Epoch 26/250\n",
            "6/6 [==============================] - 0s 23ms/step - loss: 0.4915 - accuracy: 0.8266 - val_loss: 0.4172 - val_accuracy: 0.8521\n",
            "Epoch 27/250\n",
            "6/6 [==============================] - 0s 26ms/step - loss: 0.4816 - accuracy: 0.8312 - val_loss: 0.4129 - val_accuracy: 0.8543\n",
            "Epoch 28/250\n",
            "6/6 [==============================] - 0s 23ms/step - loss: 0.4797 - accuracy: 0.8319 - val_loss: 0.4093 - val_accuracy: 0.8554\n",
            "Epoch 29/250\n",
            "6/6 [==============================] - 0s 22ms/step - loss: 0.4742 - accuracy: 0.8342 - val_loss: 0.4031 - val_accuracy: 0.8568\n",
            "Epoch 30/250\n",
            "6/6 [==============================] - 0s 24ms/step - loss: 0.4681 - accuracy: 0.8345 - val_loss: 0.4016 - val_accuracy: 0.8571\n",
            "Epoch 31/250\n",
            "6/6 [==============================] - 0s 24ms/step - loss: 0.4599 - accuracy: 0.8388 - val_loss: 0.3973 - val_accuracy: 0.8584\n",
            "Epoch 32/250\n",
            "6/6 [==============================] - 0s 24ms/step - loss: 0.4588 - accuracy: 0.8395 - val_loss: 0.3940 - val_accuracy: 0.8612\n",
            "Epoch 33/250\n",
            "6/6 [==============================] - 0s 23ms/step - loss: 0.4553 - accuracy: 0.8402 - val_loss: 0.3905 - val_accuracy: 0.8622\n",
            "Epoch 34/250\n",
            "6/6 [==============================] - 0s 25ms/step - loss: 0.4517 - accuracy: 0.8427 - val_loss: 0.3898 - val_accuracy: 0.8618\n",
            "Epoch 35/250\n",
            "6/6 [==============================] - 0s 23ms/step - loss: 0.4461 - accuracy: 0.8432 - val_loss: 0.3860 - val_accuracy: 0.8612\n",
            "Epoch 36/250\n",
            "6/6 [==============================] - 0s 24ms/step - loss: 0.4441 - accuracy: 0.8436 - val_loss: 0.3829 - val_accuracy: 0.8650\n",
            "Epoch 37/250\n",
            "6/6 [==============================] - 0s 23ms/step - loss: 0.4409 - accuracy: 0.8454 - val_loss: 0.3791 - val_accuracy: 0.8635\n",
            "Epoch 38/250\n",
            "6/6 [==============================] - 0s 22ms/step - loss: 0.4370 - accuracy: 0.8454 - val_loss: 0.3783 - val_accuracy: 0.8634\n",
            "Epoch 39/250\n",
            "6/6 [==============================] - 0s 22ms/step - loss: 0.4349 - accuracy: 0.8455 - val_loss: 0.3757 - val_accuracy: 0.8662\n",
            "Epoch 40/250\n",
            "6/6 [==============================] - 0s 24ms/step - loss: 0.4318 - accuracy: 0.8465 - val_loss: 0.3732 - val_accuracy: 0.8668\n",
            "Epoch 41/250\n",
            "6/6 [==============================] - 0s 24ms/step - loss: 0.4272 - accuracy: 0.8494 - val_loss: 0.3713 - val_accuracy: 0.8663\n",
            "Epoch 42/250\n",
            "6/6 [==============================] - 0s 23ms/step - loss: 0.4222 - accuracy: 0.8508 - val_loss: 0.3688 - val_accuracy: 0.8681\n",
            "Epoch 43/250\n",
            "6/6 [==============================] - 0s 22ms/step - loss: 0.4219 - accuracy: 0.8507 - val_loss: 0.3676 - val_accuracy: 0.8694\n",
            "Epoch 44/250\n",
            "6/6 [==============================] - 0s 24ms/step - loss: 0.4215 - accuracy: 0.8505 - val_loss: 0.3654 - val_accuracy: 0.8695\n",
            "Epoch 45/250\n",
            "6/6 [==============================] - 0s 23ms/step - loss: 0.4166 - accuracy: 0.8529 - val_loss: 0.3624 - val_accuracy: 0.8698\n",
            "Epoch 46/250\n",
            "6/6 [==============================] - 0s 22ms/step - loss: 0.4165 - accuracy: 0.8522 - val_loss: 0.3621 - val_accuracy: 0.8702\n",
            "Epoch 47/250\n",
            "6/6 [==============================] - 0s 23ms/step - loss: 0.4125 - accuracy: 0.8523 - val_loss: 0.3624 - val_accuracy: 0.8715\n",
            "Epoch 48/250\n",
            "6/6 [==============================] - 0s 23ms/step - loss: 0.4104 - accuracy: 0.8544 - val_loss: 0.3584 - val_accuracy: 0.8702\n",
            "Epoch 49/250\n",
            "6/6 [==============================] - 0s 25ms/step - loss: 0.4078 - accuracy: 0.8555 - val_loss: 0.3594 - val_accuracy: 0.8701\n",
            "Epoch 50/250\n",
            "6/6 [==============================] - 0s 21ms/step - loss: 0.4069 - accuracy: 0.8550 - val_loss: 0.3572 - val_accuracy: 0.8704\n",
            "Epoch 51/250\n",
            "6/6 [==============================] - 0s 23ms/step - loss: 0.4025 - accuracy: 0.8559 - val_loss: 0.3538 - val_accuracy: 0.8747\n",
            "Epoch 52/250\n",
            "6/6 [==============================] - 0s 23ms/step - loss: 0.4028 - accuracy: 0.8573 - val_loss: 0.3535 - val_accuracy: 0.8720\n",
            "Epoch 53/250\n",
            "6/6 [==============================] - 0s 23ms/step - loss: 0.3992 - accuracy: 0.8595 - val_loss: 0.3504 - val_accuracy: 0.8742\n",
            "Epoch 54/250\n",
            "6/6 [==============================] - 0s 24ms/step - loss: 0.3988 - accuracy: 0.8584 - val_loss: 0.3505 - val_accuracy: 0.8743\n",
            "Epoch 55/250\n",
            "6/6 [==============================] - 0s 23ms/step - loss: 0.3969 - accuracy: 0.8585 - val_loss: 0.3485 - val_accuracy: 0.8748\n",
            "Epoch 56/250\n",
            "6/6 [==============================] - 0s 23ms/step - loss: 0.3952 - accuracy: 0.8604 - val_loss: 0.3490 - val_accuracy: 0.8745\n",
            "Epoch 57/250\n",
            "6/6 [==============================] - 0s 22ms/step - loss: 0.3920 - accuracy: 0.8610 - val_loss: 0.3468 - val_accuracy: 0.8761\n",
            "Epoch 58/250\n",
            "6/6 [==============================] - 0s 23ms/step - loss: 0.3905 - accuracy: 0.8613 - val_loss: 0.3452 - val_accuracy: 0.8753\n",
            "Epoch 59/250\n",
            "6/6 [==============================] - 0s 22ms/step - loss: 0.3891 - accuracy: 0.8622 - val_loss: 0.3452 - val_accuracy: 0.8758\n",
            "Epoch 60/250\n",
            "6/6 [==============================] - 0s 23ms/step - loss: 0.3878 - accuracy: 0.8611 - val_loss: 0.3438 - val_accuracy: 0.8759\n",
            "Epoch 61/250\n",
            "6/6 [==============================] - 0s 23ms/step - loss: 0.3838 - accuracy: 0.8627 - val_loss: 0.3421 - val_accuracy: 0.8774\n",
            "Epoch 62/250\n",
            "6/6 [==============================] - 0s 24ms/step - loss: 0.3835 - accuracy: 0.8622 - val_loss: 0.3420 - val_accuracy: 0.8772\n",
            "Epoch 63/250\n",
            "6/6 [==============================] - 0s 22ms/step - loss: 0.3796 - accuracy: 0.8635 - val_loss: 0.3403 - val_accuracy: 0.8777\n",
            "Epoch 64/250\n",
            "6/6 [==============================] - 0s 23ms/step - loss: 0.3783 - accuracy: 0.8635 - val_loss: 0.3395 - val_accuracy: 0.8785\n",
            "Epoch 65/250\n",
            "6/6 [==============================] - 0s 23ms/step - loss: 0.3772 - accuracy: 0.8664 - val_loss: 0.3385 - val_accuracy: 0.8773\n",
            "Epoch 66/250\n",
            "6/6 [==============================] - 0s 22ms/step - loss: 0.3756 - accuracy: 0.8656 - val_loss: 0.3361 - val_accuracy: 0.8793\n",
            "Epoch 67/250\n",
            "6/6 [==============================] - 0s 23ms/step - loss: 0.3760 - accuracy: 0.8641 - val_loss: 0.3393 - val_accuracy: 0.8777\n",
            "Epoch 68/250\n",
            "6/6 [==============================] - 0s 22ms/step - loss: 0.3722 - accuracy: 0.8671 - val_loss: 0.3364 - val_accuracy: 0.8786\n",
            "Epoch 69/250\n",
            "6/6 [==============================] - 0s 24ms/step - loss: 0.3744 - accuracy: 0.8646 - val_loss: 0.3361 - val_accuracy: 0.8783\n",
            "Epoch 70/250\n",
            "6/6 [==============================] - 0s 22ms/step - loss: 0.3728 - accuracy: 0.8657 - val_loss: 0.3362 - val_accuracy: 0.8791\n",
            "Epoch 71/250\n",
            "6/6 [==============================] - 0s 25ms/step - loss: 0.3700 - accuracy: 0.8662 - val_loss: 0.3327 - val_accuracy: 0.8806\n",
            "Epoch 72/250\n",
            "6/6 [==============================] - 0s 23ms/step - loss: 0.3701 - accuracy: 0.8673 - val_loss: 0.3335 - val_accuracy: 0.8793\n",
            "Epoch 73/250\n",
            "6/6 [==============================] - 0s 22ms/step - loss: 0.3687 - accuracy: 0.8664 - val_loss: 0.3322 - val_accuracy: 0.8817\n",
            "Epoch 74/250\n",
            "6/6 [==============================] - 0s 24ms/step - loss: 0.3642 - accuracy: 0.8683 - val_loss: 0.3323 - val_accuracy: 0.8795\n",
            "Epoch 75/250\n",
            "6/6 [==============================] - 0s 24ms/step - loss: 0.3629 - accuracy: 0.8693 - val_loss: 0.3295 - val_accuracy: 0.8818\n",
            "Epoch 76/250\n",
            "6/6 [==============================] - 0s 23ms/step - loss: 0.3627 - accuracy: 0.8683 - val_loss: 0.3290 - val_accuracy: 0.8823\n",
            "Epoch 77/250\n",
            "6/6 [==============================] - 0s 24ms/step - loss: 0.3660 - accuracy: 0.8693 - val_loss: 0.3292 - val_accuracy: 0.8820\n",
            "Epoch 78/250\n",
            "6/6 [==============================] - 0s 23ms/step - loss: 0.3602 - accuracy: 0.8710 - val_loss: 0.3292 - val_accuracy: 0.8812\n",
            "Epoch 79/250\n",
            "6/6 [==============================] - 0s 24ms/step - loss: 0.3621 - accuracy: 0.8701 - val_loss: 0.3274 - val_accuracy: 0.8829\n",
            "Epoch 80/250\n",
            "6/6 [==============================] - 0s 21ms/step - loss: 0.3587 - accuracy: 0.8710 - val_loss: 0.3257 - val_accuracy: 0.8818\n",
            "Epoch 81/250\n",
            "6/6 [==============================] - 0s 25ms/step - loss: 0.3589 - accuracy: 0.8697 - val_loss: 0.3260 - val_accuracy: 0.8822\n",
            "Epoch 82/250\n",
            "6/6 [==============================] - 0s 23ms/step - loss: 0.3567 - accuracy: 0.8709 - val_loss: 0.3248 - val_accuracy: 0.8834\n",
            "Epoch 83/250\n",
            "6/6 [==============================] - 0s 22ms/step - loss: 0.3549 - accuracy: 0.8705 - val_loss: 0.3245 - val_accuracy: 0.8814\n",
            "Epoch 84/250\n",
            "6/6 [==============================] - 0s 21ms/step - loss: 0.3549 - accuracy: 0.8707 - val_loss: 0.3231 - val_accuracy: 0.8841\n",
            "Epoch 85/250\n",
            "6/6 [==============================] - 0s 23ms/step - loss: 0.3526 - accuracy: 0.8729 - val_loss: 0.3250 - val_accuracy: 0.8827\n",
            "Epoch 86/250\n",
            "6/6 [==============================] - 0s 21ms/step - loss: 0.3505 - accuracy: 0.8733 - val_loss: 0.3214 - val_accuracy: 0.8840\n",
            "Epoch 87/250\n",
            "6/6 [==============================] - 0s 22ms/step - loss: 0.3511 - accuracy: 0.8726 - val_loss: 0.3218 - val_accuracy: 0.8832\n",
            "Epoch 88/250\n",
            "6/6 [==============================] - 0s 24ms/step - loss: 0.3489 - accuracy: 0.8740 - val_loss: 0.3204 - val_accuracy: 0.8841\n",
            "Epoch 89/250\n",
            "6/6 [==============================] - 0s 22ms/step - loss: 0.3463 - accuracy: 0.8763 - val_loss: 0.3202 - val_accuracy: 0.8847\n",
            "Epoch 90/250\n",
            "6/6 [==============================] - 0s 23ms/step - loss: 0.3497 - accuracy: 0.8742 - val_loss: 0.3204 - val_accuracy: 0.8834\n",
            "Epoch 91/250\n",
            "6/6 [==============================] - 0s 23ms/step - loss: 0.3475 - accuracy: 0.8749 - val_loss: 0.3200 - val_accuracy: 0.8827\n",
            "Epoch 92/250\n",
            "6/6 [==============================] - 0s 22ms/step - loss: 0.3415 - accuracy: 0.8760 - val_loss: 0.3192 - val_accuracy: 0.8849\n",
            "Epoch 93/250\n",
            "6/6 [==============================] - 0s 24ms/step - loss: 0.3459 - accuracy: 0.8745 - val_loss: 0.3189 - val_accuracy: 0.8838\n",
            "Epoch 94/250\n",
            "6/6 [==============================] - 0s 23ms/step - loss: 0.3427 - accuracy: 0.8763 - val_loss: 0.3170 - val_accuracy: 0.8859\n",
            "Epoch 95/250\n",
            "6/6 [==============================] - 0s 23ms/step - loss: 0.3414 - accuracy: 0.8770 - val_loss: 0.3176 - val_accuracy: 0.8842\n",
            "Epoch 96/250\n",
            "6/6 [==============================] - 0s 25ms/step - loss: 0.3436 - accuracy: 0.8742 - val_loss: 0.3160 - val_accuracy: 0.8865\n",
            "Epoch 97/250\n",
            "6/6 [==============================] - 0s 24ms/step - loss: 0.3401 - accuracy: 0.8754 - val_loss: 0.3162 - val_accuracy: 0.8858\n",
            "Epoch 98/250\n",
            "6/6 [==============================] - 0s 23ms/step - loss: 0.3389 - accuracy: 0.8765 - val_loss: 0.3157 - val_accuracy: 0.8851\n",
            "Epoch 99/250\n",
            "6/6 [==============================] - 0s 24ms/step - loss: 0.3377 - accuracy: 0.8767 - val_loss: 0.3153 - val_accuracy: 0.8853\n",
            "Epoch 100/250\n",
            "6/6 [==============================] - 0s 24ms/step - loss: 0.3335 - accuracy: 0.8777 - val_loss: 0.3158 - val_accuracy: 0.8846\n",
            "Epoch 101/250\n",
            "6/6 [==============================] - 0s 22ms/step - loss: 0.3370 - accuracy: 0.8771 - val_loss: 0.3151 - val_accuracy: 0.8841\n",
            "Epoch 102/250\n",
            "6/6 [==============================] - 0s 23ms/step - loss: 0.3355 - accuracy: 0.8769 - val_loss: 0.3141 - val_accuracy: 0.8863\n",
            "Epoch 103/250\n",
            "6/6 [==============================] - 0s 22ms/step - loss: 0.3334 - accuracy: 0.8792 - val_loss: 0.3130 - val_accuracy: 0.8861\n",
            "Epoch 104/250\n",
            "6/6 [==============================] - 0s 23ms/step - loss: 0.3322 - accuracy: 0.8789 - val_loss: 0.3133 - val_accuracy: 0.8863\n",
            "Epoch 105/250\n",
            "6/6 [==============================] - 0s 23ms/step - loss: 0.3312 - accuracy: 0.8792 - val_loss: 0.3126 - val_accuracy: 0.8867\n",
            "Epoch 106/250\n",
            "6/6 [==============================] - 0s 22ms/step - loss: 0.3305 - accuracy: 0.8794 - val_loss: 0.3130 - val_accuracy: 0.8858\n",
            "Epoch 107/250\n",
            "6/6 [==============================] - 0s 24ms/step - loss: 0.3310 - accuracy: 0.8790 - val_loss: 0.3113 - val_accuracy: 0.8877\n",
            "Epoch 108/250\n",
            "6/6 [==============================] - 0s 25ms/step - loss: 0.3313 - accuracy: 0.8803 - val_loss: 0.3134 - val_accuracy: 0.8853\n",
            "Epoch 109/250\n",
            "6/6 [==============================] - 0s 23ms/step - loss: 0.3313 - accuracy: 0.8794 - val_loss: 0.3100 - val_accuracy: 0.8871\n",
            "Epoch 110/250\n",
            "6/6 [==============================] - 0s 24ms/step - loss: 0.3273 - accuracy: 0.8824 - val_loss: 0.3119 - val_accuracy: 0.8873\n",
            "Epoch 111/250\n",
            "6/6 [==============================] - 0s 23ms/step - loss: 0.3314 - accuracy: 0.8789 - val_loss: 0.3091 - val_accuracy: 0.8887\n",
            "Epoch 112/250\n",
            "6/6 [==============================] - 0s 22ms/step - loss: 0.3288 - accuracy: 0.8797 - val_loss: 0.3113 - val_accuracy: 0.8857\n",
            "Epoch 113/250\n",
            "6/6 [==============================] - 0s 22ms/step - loss: 0.3254 - accuracy: 0.8816 - val_loss: 0.3092 - val_accuracy: 0.8889\n",
            "Epoch 114/250\n",
            "6/6 [==============================] - 0s 23ms/step - loss: 0.3253 - accuracy: 0.8816 - val_loss: 0.3099 - val_accuracy: 0.8875\n",
            "Epoch 115/250\n",
            "6/6 [==============================] - 0s 24ms/step - loss: 0.3222 - accuracy: 0.8824 - val_loss: 0.3089 - val_accuracy: 0.8867\n",
            "Epoch 116/250\n",
            "6/6 [==============================] - 0s 24ms/step - loss: 0.3225 - accuracy: 0.8824 - val_loss: 0.3087 - val_accuracy: 0.8885\n",
            "Epoch 117/250\n",
            "6/6 [==============================] - 0s 23ms/step - loss: 0.3218 - accuracy: 0.8826 - val_loss: 0.3090 - val_accuracy: 0.8878\n",
            "Epoch 118/250\n",
            "6/6 [==============================] - 0s 24ms/step - loss: 0.3208 - accuracy: 0.8822 - val_loss: 0.3077 - val_accuracy: 0.8888\n",
            "Epoch 119/250\n",
            "6/6 [==============================] - 0s 24ms/step - loss: 0.3225 - accuracy: 0.8812 - val_loss: 0.3097 - val_accuracy: 0.8859\n",
            "Epoch 120/250\n",
            "6/6 [==============================] - 0s 23ms/step - loss: 0.3224 - accuracy: 0.8812 - val_loss: 0.3079 - val_accuracy: 0.8900\n",
            "Epoch 121/250\n",
            "6/6 [==============================] - 0s 23ms/step - loss: 0.3221 - accuracy: 0.8813 - val_loss: 0.3083 - val_accuracy: 0.8863\n",
            "Epoch 122/250\n",
            "6/6 [==============================] - 0s 25ms/step - loss: 0.3186 - accuracy: 0.8815 - val_loss: 0.3070 - val_accuracy: 0.8902\n",
            "Epoch 123/250\n",
            "6/6 [==============================] - 0s 24ms/step - loss: 0.3157 - accuracy: 0.8847 - val_loss: 0.3067 - val_accuracy: 0.8874\n",
            "Epoch 124/250\n",
            "6/6 [==============================] - 0s 23ms/step - loss: 0.3173 - accuracy: 0.8828 - val_loss: 0.3056 - val_accuracy: 0.8896\n",
            "Epoch 125/250\n",
            "6/6 [==============================] - 0s 24ms/step - loss: 0.3193 - accuracy: 0.8830 - val_loss: 0.3062 - val_accuracy: 0.8899\n",
            "Epoch 126/250\n",
            "6/6 [==============================] - 0s 23ms/step - loss: 0.3169 - accuracy: 0.8847 - val_loss: 0.3054 - val_accuracy: 0.8883\n",
            "Epoch 127/250\n",
            "6/6 [==============================] - 0s 25ms/step - loss: 0.3137 - accuracy: 0.8851 - val_loss: 0.3045 - val_accuracy: 0.8896\n",
            "Epoch 128/250\n",
            "6/6 [==============================] - 0s 24ms/step - loss: 0.3147 - accuracy: 0.8843 - val_loss: 0.3054 - val_accuracy: 0.8879\n",
            "Epoch 129/250\n",
            "6/6 [==============================] - 0s 24ms/step - loss: 0.3144 - accuracy: 0.8858 - val_loss: 0.3046 - val_accuracy: 0.8903\n",
            "Epoch 130/250\n",
            "6/6 [==============================] - 0s 23ms/step - loss: 0.3146 - accuracy: 0.8844 - val_loss: 0.3040 - val_accuracy: 0.8899\n",
            "Epoch 131/250\n",
            "6/6 [==============================] - 0s 23ms/step - loss: 0.3110 - accuracy: 0.8857 - val_loss: 0.3030 - val_accuracy: 0.8888\n",
            "Epoch 132/250\n",
            "6/6 [==============================] - 0s 23ms/step - loss: 0.3121 - accuracy: 0.8836 - val_loss: 0.3039 - val_accuracy: 0.8888\n",
            "Epoch 133/250\n",
            "6/6 [==============================] - 0s 22ms/step - loss: 0.3124 - accuracy: 0.8858 - val_loss: 0.3030 - val_accuracy: 0.8892\n",
            "Epoch 134/250\n",
            "6/6 [==============================] - 0s 23ms/step - loss: 0.3120 - accuracy: 0.8852 - val_loss: 0.3032 - val_accuracy: 0.8899\n",
            "Epoch 135/250\n",
            "6/6 [==============================] - 0s 23ms/step - loss: 0.3093 - accuracy: 0.8877 - val_loss: 0.3022 - val_accuracy: 0.8899\n",
            "Epoch 136/250\n",
            "6/6 [==============================] - 0s 24ms/step - loss: 0.3085 - accuracy: 0.8865 - val_loss: 0.3033 - val_accuracy: 0.8897\n",
            "Epoch 137/250\n",
            "6/6 [==============================] - 0s 22ms/step - loss: 0.3066 - accuracy: 0.8885 - val_loss: 0.3025 - val_accuracy: 0.8904\n",
            "Epoch 138/250\n",
            "6/6 [==============================] - 0s 23ms/step - loss: 0.3085 - accuracy: 0.8857 - val_loss: 0.3026 - val_accuracy: 0.8912\n",
            "Epoch 139/250\n",
            "6/6 [==============================] - 0s 23ms/step - loss: 0.3087 - accuracy: 0.8873 - val_loss: 0.3028 - val_accuracy: 0.8905\n",
            "Epoch 140/250\n",
            "6/6 [==============================] - 0s 24ms/step - loss: 0.3081 - accuracy: 0.8869 - val_loss: 0.3003 - val_accuracy: 0.8913\n",
            "Epoch 141/250\n",
            "6/6 [==============================] - 0s 23ms/step - loss: 0.3076 - accuracy: 0.8883 - val_loss: 0.3025 - val_accuracy: 0.8913\n",
            "Epoch 142/250\n",
            "6/6 [==============================] - 0s 22ms/step - loss: 0.3050 - accuracy: 0.8889 - val_loss: 0.3023 - val_accuracy: 0.8889\n",
            "Epoch 143/250\n",
            "6/6 [==============================] - 0s 23ms/step - loss: 0.3046 - accuracy: 0.8874 - val_loss: 0.3010 - val_accuracy: 0.8905\n",
            "Epoch 144/250\n",
            "6/6 [==============================] - 0s 24ms/step - loss: 0.3022 - accuracy: 0.8913 - val_loss: 0.3017 - val_accuracy: 0.8904\n",
            "Epoch 145/250\n",
            "6/6 [==============================] - 0s 23ms/step - loss: 0.3032 - accuracy: 0.8893 - val_loss: 0.3002 - val_accuracy: 0.8928\n",
            "Epoch 146/250\n",
            "6/6 [==============================] - 0s 23ms/step - loss: 0.3032 - accuracy: 0.8889 - val_loss: 0.3005 - val_accuracy: 0.8888\n",
            "Epoch 147/250\n",
            "6/6 [==============================] - 0s 22ms/step - loss: 0.3039 - accuracy: 0.8898 - val_loss: 0.3013 - val_accuracy: 0.8914\n",
            "Epoch 148/250\n",
            "6/6 [==============================] - 0s 23ms/step - loss: 0.3001 - accuracy: 0.8902 - val_loss: 0.2987 - val_accuracy: 0.8926\n",
            "Epoch 149/250\n",
            "6/6 [==============================] - 0s 24ms/step - loss: 0.3029 - accuracy: 0.8888 - val_loss: 0.3005 - val_accuracy: 0.8884\n",
            "Epoch 150/250\n",
            "6/6 [==============================] - 0s 23ms/step - loss: 0.2968 - accuracy: 0.8902 - val_loss: 0.3000 - val_accuracy: 0.8913\n",
            "Epoch 151/250\n",
            "6/6 [==============================] - 0s 24ms/step - loss: 0.3009 - accuracy: 0.8903 - val_loss: 0.2995 - val_accuracy: 0.8918\n",
            "Epoch 152/250\n",
            "6/6 [==============================] - 0s 23ms/step - loss: 0.3006 - accuracy: 0.8896 - val_loss: 0.3011 - val_accuracy: 0.8924\n",
            "Epoch 153/250\n",
            "6/6 [==============================] - 0s 22ms/step - loss: 0.2991 - accuracy: 0.8893 - val_loss: 0.2990 - val_accuracy: 0.8914\n",
            "Epoch 154/250\n",
            "6/6 [==============================] - 0s 24ms/step - loss: 0.2986 - accuracy: 0.8902 - val_loss: 0.2994 - val_accuracy: 0.8911\n",
            "Epoch 155/250\n",
            "6/6 [==============================] - 0s 24ms/step - loss: 0.2970 - accuracy: 0.8901 - val_loss: 0.2975 - val_accuracy: 0.8932\n",
            "Epoch 156/250\n",
            "6/6 [==============================] - 0s 24ms/step - loss: 0.2959 - accuracy: 0.8904 - val_loss: 0.2987 - val_accuracy: 0.8914\n",
            "Epoch 157/250\n",
            "6/6 [==============================] - 0s 24ms/step - loss: 0.2962 - accuracy: 0.8915 - val_loss: 0.2978 - val_accuracy: 0.8910\n",
            "Epoch 158/250\n",
            "6/6 [==============================] - 0s 24ms/step - loss: 0.2952 - accuracy: 0.8910 - val_loss: 0.2981 - val_accuracy: 0.8907\n",
            "Epoch 159/250\n",
            "6/6 [==============================] - 0s 23ms/step - loss: 0.2938 - accuracy: 0.8905 - val_loss: 0.2979 - val_accuracy: 0.8912\n",
            "Epoch 160/250\n",
            "6/6 [==============================] - 0s 24ms/step - loss: 0.2925 - accuracy: 0.8931 - val_loss: 0.2966 - val_accuracy: 0.8918\n",
            "Epoch 161/250\n",
            "6/6 [==============================] - 0s 23ms/step - loss: 0.2934 - accuracy: 0.8918 - val_loss: 0.2983 - val_accuracy: 0.8922\n",
            "Epoch 162/250\n",
            "6/6 [==============================] - 0s 22ms/step - loss: 0.2964 - accuracy: 0.8908 - val_loss: 0.2952 - val_accuracy: 0.8919\n",
            "Epoch 163/250\n",
            "6/6 [==============================] - 0s 23ms/step - loss: 0.2936 - accuracy: 0.8911 - val_loss: 0.2985 - val_accuracy: 0.8910\n",
            "Epoch 164/250\n",
            "6/6 [==============================] - 0s 23ms/step - loss: 0.2930 - accuracy: 0.8917 - val_loss: 0.2968 - val_accuracy: 0.8922\n",
            "Epoch 165/250\n",
            "6/6 [==============================] - 0s 24ms/step - loss: 0.2933 - accuracy: 0.8929 - val_loss: 0.2966 - val_accuracy: 0.8926\n",
            "Epoch 00165: early stopping\n",
            "Best epoch: 155\n"
          ],
          "name": "stdout"
        }
      ]
    },
    {
      "cell_type": "code",
      "metadata": {
        "colab": {
          "base_uri": "https://localhost:8080/",
          "height": 865
        },
        "id": "JsoTkmGOvBuu",
        "outputId": "2c03c6c2-a9e6-4fc6-c3ef-005f64d73e12"
      },
      "source": [
        "tf.keras.utils.plot_model(model, show_shapes=True)"
      ],
      "execution_count": 18,
      "outputs": [
        {
          "output_type": "execute_result",
          "data": {
            "image/png": "[encoded data removed]",
            "text/plain": [
              "<IPython.core.display.Image object>"
            ]
          },
          "metadata": {
            "tags": []
          },
          "execution_count": 18
        }
      ]
    },
    {
      "cell_type": "markdown",
      "metadata": {
        "id": "p8J5GptbB-BI"
      },
      "source": [
        "### curves"
      ]
    },
    {
      "cell_type": "code",
      "metadata": {
        "colab": {
          "base_uri": "https://localhost:8080/",
          "height": 573
        },
        "id": "TqJcgFnRCA1z",
        "outputId": "70ad9739-b14f-4d6e-ac48-08acac26d0d3"
      },
      "source": [
        "%matplotlib inline\n",
        "import matplotlib.pyplot as plt\n",
        "\n",
        "# summarize history for accuracy\n",
        "plt.plot(history.history['accuracy'])\n",
        "plt.plot(history.history['val_accuracy'])\n",
        "plt.title('model accuracy')\n",
        "plt.ylabel('accuracy')\n",
        "plt.xlabel('epoch')\n",
        "plt.legend(['train', 'dev'], loc='upper left')\n",
        "plt.show()\n",
        "\n",
        "# summarize history for loss\n",
        "plt.plot(history.history['loss'])\n",
        "plt.plot(history.history['val_loss'])\n",
        "plt.title('model loss')\n",
        "plt.ylabel('loss')\n",
        "plt.xlabel('epoch')\n",
        "plt.legend(['train', 'dev'], loc='upper right')\n",
        "plt.show()"
      ],
      "execution_count": 19,
      "outputs": [
        {
          "output_type": "display_data",
          "data": {
            "image/png": "[encoded data removed]",
            "text/plain": [
              "<Figure size 432x288 with 1 Axes>"
            ]
          },
          "metadata": {
            "tags": [],
            "needs_background": "light"
          }
        },
        {
          "output_type": "display_data",
          "data": {
            "image/png": "[encoded data removed]",
            "text/plain": [
              "<Figure size 432x288 with 1 Axes>"
            ]
          },
          "metadata": {
            "tags": [],
            "needs_background": "light"
          }
        }
      ]
    },
    {
      "cell_type": "code",
      "metadata": {
        "colab": {
          "base_uri": "https://localhost:8080/"
        },
        "id": "TQvuBCNmFbg6",
        "outputId": "c0baede0-badb-4b22-f2b6-4bc1240e4d5a"
      },
      "source": [
        "from sklearn.metrics import classification_report\n",
        "\n",
        "#MLP on training set\n",
        "train_pred = np.round(model.predict(x_train))\n",
        "print('Training Set:')\n",
        "print(classification_report(y_train, train_pred))\n",
        "print('=======================================================')\n",
        "\n",
        "#MLP on validation set\n",
        "val_pred = np.round(model.predict(x_val))\n",
        "print('Validation Set:')\n",
        "print(classification_report(y_val, val_pred))\n",
        "print('=======================================================')\n",
        "\n",
        "\n",
        "#MLP on test set\n",
        "test_pred = np.round(model.predict(x_test))\n",
        "print('Test Set:')\n",
        "print(classification_report(y_test, test_pred))"
      ],
      "execution_count": 20,
      "outputs": [
        {
          "output_type": "stream",
          "text": [
            "Training Set:\n",
            "              precision    recall  f1-score   support\n",
            "\n",
            "           0       0.88      0.87      0.87      4798\n",
            "           1       1.00      0.98      0.99      4781\n",
            "           2       0.90      0.79      0.84      4795\n",
            "           3       0.94      0.92      0.93      4816\n",
            "           4       0.84      0.87      0.85      4798\n",
            "           5       0.99      0.98      0.99      4789\n",
            "           6       0.86      0.68      0.76      4782\n",
            "           7       0.97      0.97      0.97      4841\n",
            "           8       1.00      0.99      0.99      4803\n",
            "           9       0.98      0.97      0.98      4797\n",
            "\n",
            "   micro avg       0.94      0.90      0.92     48000\n",
            "   macro avg       0.94      0.90      0.92     48000\n",
            "weighted avg       0.94      0.90      0.92     48000\n",
            " samples avg       0.90      0.90      0.90     48000\n",
            "\n",
            "=======================================================\n"
          ],
          "name": "stdout"
        },
        {
          "output_type": "stream",
          "text": [
            "/usr/local/lib/python3.7/dist-packages/sklearn/metrics/_classification.py:1272: UndefinedMetricWarning: Precision and F-score are ill-defined and being set to 0.0 in samples with no predicted labels. Use `zero_division` parameter to control this behavior.\n",
            "  _warn_prf(average, modifier, msg_start, len(result))\n"
          ],
          "name": "stderr"
        },
        {
          "output_type": "stream",
          "text": [
            "Validation Set:\n",
            "              precision    recall  f1-score   support\n",
            "\n",
            "           0       0.84      0.85      0.84      1202\n",
            "           1       0.99      0.97      0.98      1219\n",
            "           2       0.87      0.76      0.81      1205\n",
            "           3       0.89      0.90      0.90      1184\n",
            "           4       0.81      0.84      0.83      1202\n",
            "           5       0.97      0.96      0.97      1211\n",
            "           6       0.83      0.62      0.71      1218\n",
            "           7       0.95      0.95      0.95      1159\n",
            "           8       0.98      0.95      0.97      1197\n",
            "           9       0.96      0.97      0.96      1203\n",
            "\n",
            "   micro avg       0.91      0.88      0.89     12000\n",
            "   macro avg       0.91      0.88      0.89     12000\n",
            "weighted avg       0.91      0.88      0.89     12000\n",
            " samples avg       0.88      0.88      0.88     12000\n",
            "\n",
            "=======================================================\n",
            "Test Set:\n",
            "              precision    recall  f1-score   support\n",
            "\n",
            "           0       0.84      0.83      0.83      1000\n",
            "           1       0.99      0.96      0.98      1000\n",
            "           2       0.85      0.74      0.79      1000\n",
            "           3       0.91      0.88      0.89      1000\n",
            "           4       0.79      0.82      0.80      1000\n",
            "           5       0.98      0.95      0.96      1000\n",
            "           6       0.78      0.59      0.67      1000\n",
            "           7       0.94      0.96      0.95      1000\n",
            "           8       0.97      0.96      0.97      1000\n",
            "           9       0.96      0.96      0.96      1000\n",
            "\n",
            "   micro avg       0.90      0.86      0.88     10000\n",
            "   macro avg       0.90      0.86      0.88     10000\n",
            "weighted avg       0.90      0.86      0.88     10000\n",
            " samples avg       0.86      0.86      0.86     10000\n",
            "\n"
          ],
          "name": "stdout"
        }
      ]
    },
    {
      "cell_type": "markdown",
      "metadata": {
        "id": "7frBA55M4URf"
      },
      "source": [
        "# CNN"
      ]
    },
    {
      "cell_type": "code",
      "metadata": {
        "id": "Na8jQCVK9gtz"
      },
      "source": [
        "#from tensorflow.keras.layers import Conv2D,Activation, MaxPool2D\n"
      ],
      "execution_count": null,
      "outputs": []
    },
    {
      "cell_type": "code",
      "metadata": {
        "id": "mioYH0rcCfhO"
      },
      "source": [
        "x_train_cnn = x_train.reshape(len(x_train),28,28,1)"
      ],
      "execution_count": null,
      "outputs": []
    },
    {
      "cell_type": "code",
      "metadata": {
        "id": "WVV2pos0D0Pj"
      },
      "source": [
        "train_images = x_train.reshape(len(x_train), 28, 28, 1)\n",
        "val_images = x_val.reshape(len(x_val), 28, 28, 1)\n",
        "test_images = x_test.reshape(len(x_test), 28, 28, 1)"
      ],
      "execution_count": null,
      "outputs": []
    },
    {
      "cell_type": "markdown",
      "metadata": {
        "id": "0lJRIJPSSrlS"
      },
      "source": [
        "# Να βάλω dropouts"
      ]
    },
    {
      "cell_type": "code",
      "metadata": {
        "id": "jm2GFdQvYZDH"
      },
      "source": [
        "def build_model_cnn(hp):\n",
        "\n",
        "  np.random.seed(1402) # Define the seed for numpy to have reproducible experiments.\n",
        "  set_seed(1981) # Define the seed for Tensorflow to have reproducible experiments.\n",
        "\n",
        "\n",
        "  model = keras.Sequential()\n",
        "  model.add(Conv2D(filters = hp.Int('conv_1_filter',min_value = 32,max_value = 256,step = 32),\n",
        "                   kernel_size = hp.Choice('conv_1_kernel',values = [3,5]),\n",
        "                   activation = 'relu',\n",
        "                   input_shape = (28,28,1)))\n",
        "           \n",
        "#      filters=hp.int(\"input_units\",min_value=32,max_value=256,step=32),(3,3) ,input_shape=train_images[1:]))\n",
        "  model.add(MaxPooling2D(pool_size=(2, 2)))\n",
        "\n",
        "  for i in range(hp.Int('hidden_layers',1,4)):\n",
        "    model.add(Conv2D(filters = hp.Int('conv_1_filter '+str(i),min_value = 32,max_value = 256,step = 32),\n",
        "                   kernel_size = hp.Choice('conv_1_kernel '+str(i),values = [3,5]),\n",
        "                   activation = 'relu',\n",
        "                   input_shape = (28,28,1)))\n",
        "    model.add(Activation('relu'))\n",
        "  \n",
        "  model.add(Flatten())\n",
        "  model.add(Dense(10))\n",
        "  model.add(Activation('softmax'))\n",
        "\n",
        "  hp_learning_rate = hp.Choice('learning_rate', [1e-2,1e-3])\n",
        "  optimizer = keras.optimizers.Adam(learning_rate = hp_learning_rate)\n",
        "  \n",
        "  model.compile(\n",
        "      optimizer = optimizer,\n",
        "      loss = 'categorical_crossentropy',\n",
        "      metrics = ['accuracy']\n",
        "  )\n",
        "\n",
        "  return model"
      ],
      "execution_count": null,
      "outputs": []
    },
    {
      "cell_type": "code",
      "metadata": {
        "id": "Q4WXlcKeYZBO"
      },
      "source": [
        "tuner_cnn = RandomSearch(\n",
        "    build_model_cnn,\n",
        "    objective = 'val_loss',\n",
        "    max_trials = 5,\n",
        "    executions_per_trial = 2,\n",
        "    directory = 'my_dir_cnn',\n",
        "    project_name = 'fmnist')"
      ],
      "execution_count": null,
      "outputs": []
    },
    {
      "cell_type": "code",
      "metadata": {
        "id": "kg3b0HciYY-M"
      },
      "source": [
        "es = EarlyStopping(monitor='val_accuracy', patience = 5)\n",
        "with tf.device('/device:GPU:0'):\n",
        "  tuner_cnn.search(train_images, y_train,\n",
        "              epochs=50,\n",
        "              validation_data=(val_images, y_val), \n",
        "              callbacks=[es])"
      ],
      "execution_count": null,
      "outputs": []
    },
    {
      "cell_type": "code",
      "metadata": {
        "id": "HthIv-l_YY5p"
      },
      "source": [
        "# Get the optimal hyperparameters\n",
        "best_hps_cnn=tuner_cnn.get_best_hyperparameters(num_trials=1)[0]\n",
        "tuner_cnn.results_summary"
      ],
      "execution_count": null,
      "outputs": []
    },
    {
      "cell_type": "code",
      "metadata": {
        "id": "nG_ipUm5YYxs"
      },
      "source": [
        "# Build the model with the optimal hyperparameters and train it on the data for 50 epochs\n",
        "model = tuner_cnn.hypermodel.build(best_hps)\n",
        "# Early stopping\n",
        "es = EarlyStopping(monitor='val_accuracy', mode='max',patience=10, verbose=1)\n",
        "#History\n",
        "with tf.device('/device:GPU:0'):\n",
        "  history = model.fit(\n",
        "        train_images, \n",
        "        y_train,\n",
        "        validation_data=(val_images, y_val),\n",
        "        batch_size=8192,\n",
        "        epochs=250,\n",
        "        shuffle=True,\n",
        "        callbacks=[es]\n",
        "        )\n",
        "\n",
        "val_acc_per_epoch = history.history['val_accuracy']\n",
        "best_epoch = val_acc_per_epoch.index(max(val_acc_per_epoch)) + 1\n",
        "print('Best epoch: %d' % (best_epoch,))"
      ],
      "execution_count": null,
      "outputs": []
    },
    {
      "cell_type": "code",
      "metadata": {
        "id": "4G9cQAgDvTkN"
      },
      "source": [
        "tf.keras.utils.plot_model(model, show_shapes=True)"
      ],
      "execution_count": null,
      "outputs": []
    },
    {
      "cell_type": "code",
      "metadata": {
        "id": "vFgjClPROX_3"
      },
      "source": [
        "%matplotlib inline\n",
        "import matplotlib.pyplot as plt\n",
        "\n",
        "# summarize history for accuracy\n",
        "plt.plot(history.history['accuracy'])\n",
        "plt.plot(history.history['val_accuracy'])\n",
        "plt.title('model accuracy')\n",
        "plt.ylabel('accuracy')\n",
        "plt.xlabel('epoch')\n",
        "plt.legend(['train', 'dev'], loc='upper left')\n",
        "plt.show()\n",
        "\n",
        "# summarize history for loss\n",
        "plt.plot(history.history['loss'])\n",
        "plt.plot(history.history['val_loss'])\n",
        "plt.title('model loss')\n",
        "plt.ylabel('loss')\n",
        "plt.xlabel('epoch')\n",
        "plt.legend(['train', 'dev'], loc='upper right')\n",
        "plt.show()"
      ],
      "execution_count": null,
      "outputs": []
    },
    {
      "cell_type": "code",
      "metadata": {
        "id": "eCFVONQQOckp"
      },
      "source": [
        "from sklearn.metrics import classification_report\n",
        "\n",
        "#MLP on training set\n",
        "train_pred = np.round(model.predict(train_images))\n",
        "print('Training Set:')\n",
        "print(classification_report(y_train, train_pred))\n",
        "print('=======================================================')\n",
        "\n",
        "#MLP on validation set\n",
        "val_pred = np.round(model.predict(val_images))\n",
        "print('Validation Set:')\n",
        "print(classification_report(y_val, val_pred))\n",
        "print('=======================================================')\n",
        "\n",
        "#MLP on test set\n",
        "test_pred = np.round(model.predict(test_images))\n",
        "print('Test Set:')\n",
        "print(classification_report(y_test, test_pred))"
      ],
      "execution_count": null,
      "outputs": []
    },
    {
      "cell_type": "markdown",
      "metadata": {
        "id": "mYr0k93J3EJK"
      },
      "source": [
        "# Functional"
      ]
    },
    {
      "cell_type": "code",
      "metadata": {
        "id": "f29cVAMzhasD"
      },
      "source": [
        "optimizer = SGD(lr=0.01, momentum= 0.9, nesterov = True)\n",
        "#optimizer = Adam(lr=0.01)\n",
        "\n",
        "es = EarlyStopping(monitor='val_loss', mode = 'min', verbose = 1, patience = 10)\n",
        "\n",
        "epochs = 100\n",
        "model.compile(loss = 'sparse_categorical_crossentropy', #Computes the crossentropy loss between the labels and predictions.\n",
        "              optimizer = optimizer,\n",
        "              metrics=['accuracy'])\n",
        "history = model.fit(x_train,y_train, batch_size=1024, epochs = epochs, validation_split=0.2, callbacks=[es])"
      ],
      "execution_count": null,
      "outputs": []
    },
    {
      "cell_type": "code",
      "metadata": {
        "id": "zxDO2N_O3DRk"
      },
      "source": [
        ""
      ],
      "execution_count": null,
      "outputs": []
    },
    {
      "cell_type": "markdown",
      "metadata": {
        "id": "un4dPx8r3X8M"
      },
      "source": [
        "#### SGD"
      ]
    },
    {
      "cell_type": "code",
      "metadata": {
        "id": "qJBmzfeo21dH"
      },
      "source": [
        "print(\"Train Loss     : {0:.5f}\".format(history.history['loss'][-1]))\n",
        "print(\"Validation Loss: {0:.5f}\".format(history.history['val_loss'][-1]))\n",
        "#print(\"Test Loss      : {0:.5f}\".format(history[0]))\n",
        "print(\"---\")\n",
        "print(\"Train Accuracy     : {0:.5f}\".format(history.history['accuracy'][-1]))\n",
        "print(\"Validation Accuracy: {0:.5f}\".format(history.history['val_accuracy'][-1]))\n",
        "#print(\"Test Accuracy      : {0:.5f}\".format(history[1]))\n",
        "\n",
        "# Plot train and validation error per epoch.\n",
        "plot_history(hs={'MLP Seq': history}, epochs=epochs, metric='loss')\n",
        "plot_history(hs={'MLP Seq': history}, epochs=epochs, metric='accuracy')"
      ],
      "execution_count": null,
      "outputs": []
    },
    {
      "cell_type": "markdown",
      "metadata": {
        "id": "42B4cd813g6X"
      },
      "source": [
        "#### ADAM"
      ]
    },
    {
      "cell_type": "code",
      "metadata": {
        "id": "H7hYsLq_18K2"
      },
      "source": [
        "print(\"Train Loss     : {0:.5f}\".format(history.history['loss'][-1]))\n",
        "print(\"Validation Loss: {0:.5f}\".format(history.history['val_loss'][-1]))\n",
        "#print(\"Test Loss      : {0:.5f}\".format(history[0]))\n",
        "print(\"---\")\n",
        "print(\"Train Accuracy     : {0:.5f}\".format(history.history['accuracy'][-1]))\n",
        "print(\"Validation Accuracy: {0:.5f}\".format(history.history['val_accuracy'][-1]))\n",
        "#print(\"Test Accuracy      : {0:.5f}\".format(history[1]))\n",
        "\n",
        "# Plot train and validation error per epoch.\n",
        "plot_history(hs={'MLP Seq': history}, epochs=epochs, metric='loss')\n",
        "plot_history(hs={'MLP Seq': history}, epochs=epochs, metric='accuracy')"
      ],
      "execution_count": null,
      "outputs": []
    },
    {
      "cell_type": "code",
      "metadata": {
        "id": "MpRhHGTS2NAx"
      },
      "source": [
        "plt.rcParams['figure.figsize'] = [10, 5]\n",
        "plt.rcParams['font.size'] = 16\n",
        "plt.plot(history.history['loss'], label='Train loss')\n",
        "plt.plot(history.history['val_loss'], label='Validation loss')\n",
        "x_ticks = np.arange(0, no_epochs + 1, 5)\n",
        "x_ticks [0] += 1\n",
        "plt.xticks(x_ticks)\n",
        "plt.ylim((0, 1))\n",
        "plt.xlabel('Epochs')\n",
        "plt.ylabel('loss')\n",
        "plt.title(\"optimizer: ADAM with momentum and Nesterov momentum-early stopping\")\n",
        "plt.legend()\n",
        "plt.show()"
      ],
      "execution_count": null,
      "outputs": []
    },
    {
      "cell_type": "markdown",
      "metadata": {
        "id": "rdtgC6PmfxSl"
      },
      "source": [
        "## Preprocess for Functional"
      ]
    },
    {
      "cell_type": "code",
      "metadata": {
        "id": "3e1DjMoMAC96"
      },
      "source": [
        "batch_size = 128\n",
        "classes = 10\n",
        "epochs = 100\n",
        "# Lets flatten the shapes\n",
        "x_train = x_train.reshape(x_train.shape[0],x_train.shape[1]*x_train.shape[2]) \n",
        "x_test = x_test.reshape(x_test.shape[0],x_test.shape[1]*x_test.shape[2])\n",
        "x_train = x_train.astype('float32')\n",
        "x_test = x_test.astype('float32')\n",
        "\n",
        "x_train /= 255 #Standardization of the pixels (max = 255)\n",
        "x_test /= 255 #Standardization\n",
        "y_train = to_categorical(y_train,classes) #autocreate a category vector\n",
        "y_test = to_categorical(y_test,classes) #autocreate a category vector"
      ],
      "execution_count": null,
      "outputs": []
    },
    {
      "cell_type": "markdown",
      "metadata": {
        "id": "YJYJKA0xnP8Z"
      },
      "source": [
        "## Testig some Functional MLPs\n",
        "Trials based on class lab"
      ]
    },
    {
      "cell_type": "code",
      "metadata": {
        "id": "MuZKHhrnnbOH"
      },
      "source": [
        "def plot_history(hs, epochs, metric):\n",
        "    print()\n",
        "    plt.style.use('dark_background')\n",
        "    plt.rcParams['figure.figsize'] = [15, 8]\n",
        "    plt.rcParams['font.size'] = 16\n",
        "    plt.clf()\n",
        "    for label in hs:\n",
        "        plt.plot(hs[label].history[metric], label='{0:s} train {1:s}'.format(label, metric), linewidth=2)\n",
        "        plt.plot(hs[label].history['val_{0:s}'.format(metric)], label='{0:s} validation {1:s}'.format(label, metric), linewidth=2)\n",
        "    x_ticks = np.arange(0, epochs + 1, epochs / 10)\n",
        "    x_ticks [0] += 1\n",
        "    plt.xticks(x_ticks)\n",
        "    plt.ylim((0, 1))\n",
        "    plt.xlabel('Epochs')\n",
        "    plt.ylabel('Loss' if metric=='loss' else 'Accuracy')\n",
        "    plt.legend()\n",
        "    plt.show()"
      ],
      "execution_count": null,
      "outputs": []
    },
    {
      "cell_type": "code",
      "metadata": {
        "id": "TyB05Ylfnd8V"
      },
      "source": [
        "def clean_up(model):\n",
        "    K.clear_session()\n",
        "    del model\n",
        "    gc.collect()"
      ],
      "execution_count": null,
      "outputs": []
    },
    {
      "cell_type": "code",
      "metadata": {
        "id": "gbu69gK1n3SG"
      },
      "source": [
        "def train_model(\n",
        "        train_data,\n",
        "        train_labels,\n",
        "        optimizer,\n",
        "        epochs=100,\n",
        "        batch_size=128,\n",
        "        hidden_layers=0,\n",
        "        hidden_activation='relu',\n",
        "        output_activation='softmax',\n",
        "        verbose=0):\n",
        "    \n",
        "    np.random.seed(1402) # Define the seed for numpy to have reproducible experiments.\n",
        "    set_seed(1981) # Define the seed for Tensorflow to have reproducible experiments.\n",
        "    \n",
        "    # Define the input layer.\n",
        "    input = Input(\n",
        "        shape=(784,),\n",
        "        name='Input'\n",
        "    )\n",
        "\n",
        "    x = input\n",
        "    # Define the remaining hidden layers.\n",
        "    units = 256\n",
        "    for i in range(hidden_layers):\n",
        "        x = Dense(\n",
        "            units=units/(i+1),\n",
        "            kernel_initializer='glorot_uniform',\n",
        "            activation=hidden_activation,\n",
        "            name='Hidden-{0:d}'.format(i + 1)\n",
        "        )(x)\n",
        "        \n",
        "    # Define the output layer.\n",
        "    output = Dense(\n",
        "        units=classes,\n",
        "        kernel_initializer='glorot_uniform',\n",
        "        activation=output_activation,\n",
        "        name='Output'\n",
        "    )(x)\n",
        "\n",
        "    # Define the model and train it.\n",
        "    model = Model(inputs=input, outputs=output)\n",
        "    model.compile(optimizer=optimizer, loss='categorical_crossentropy', metrics=['accuracy'])\n",
        "    hs = model.fit(\n",
        "        x=x_train,\n",
        "        y=y_train,\n",
        "        validation_split=0.1, # use 10% of the training data as validation data\n",
        "        epochs=epochs,\n",
        "        verbose=verbose,\n",
        "        batch_size=batch_size\n",
        "    )\n",
        "    print('Finished training.')\n",
        "    print('------------------')\n",
        "    model.summary() # Print a description of the model.\n",
        "    return model, hs"
      ],
      "execution_count": null,
      "outputs": []
    },
    {
      "cell_type": "markdown",
      "metadata": {
        "id": "3Gh8Vgoyfq-7"
      },
      "source": [
        "### SGD"
      ]
    },
    {
      "cell_type": "code",
      "metadata": {
        "id": "y0Z-dzkkvz07"
      },
      "source": [
        "# Using SGD\n",
        "optimizer = SGD(lr=0.01)\n",
        "\n",
        "# Logistic Regression\n",
        "lr_model_sgd, lr_hs_sgd = train_model(\n",
        "    train_data=x_train,\n",
        "    train_labels=y_train,\n",
        "    optimizer=optimizer,\n",
        "    epochs=epochs,\n",
        "    batch_size=batch_size,\n",
        "    hidden_layers=0,\n",
        "    hidden_activation='relu',\n",
        "    output_activation='softmax'\n",
        ")\n",
        "\n",
        "# Evaluate on test data and show all the results.\n",
        "lr_eval_sgd = lr_model_sgd.evaluate(x_test, y_test, verbose=1)\n",
        "clean_up(model=lr_model_sgd)"
      ],
      "execution_count": null,
      "outputs": []
    },
    {
      "cell_type": "code",
      "metadata": {
        "id": "8h2outW5xZN_"
      },
      "source": [
        "tf.keras.utils.plot_model(lr_model_sgd, show_shapes=True)"
      ],
      "execution_count": null,
      "outputs": []
    },
    {
      "cell_type": "code",
      "metadata": {
        "id": "GLOjYjNSyDJu"
      },
      "source": [
        "print(\"Train Loss     : {0:.5f}\".format(lr_hs_sgd.history['loss'][-1]))\n",
        "print(\"Validation Loss: {0:.5f}\".format(lr_hs_sgd.history['val_loss'][-1]))\n",
        "print(\"Test Loss      : {0:.5f}\".format(lr_eval_sgd[0]))\n",
        "print(\"---\")\n",
        "print(\"Train Accuracy     : {0:.5f}\".format(lr_hs_sgd.history['accuracy'][-1]))\n",
        "print(\"Validation Accuracy: {0:.5f}\".format(lr_hs_sgd.history['val_accuracy'][-1]))\n",
        "print(\"Test Accuracy      : {0:.5f}\".format(lr_eval_sgd[1]))\n",
        "\n",
        "# Plot train and validation error per epoch.\n",
        "plot_history(hs={'LR': lr_hs_sgd}, epochs=epochs, metric='loss')\n",
        "plot_history(hs={'LR': lr_hs_sgd}, epochs=epochs, metric='accuracy')"
      ],
      "execution_count": null,
      "outputs": []
    },
    {
      "cell_type": "markdown",
      "metadata": {
        "id": "McXyGEzYysvv"
      },
      "source": [
        ""
      ]
    },
    {
      "cell_type": "code",
      "metadata": {
        "id": "MQyZKfbW4Ag0"
      },
      "source": [
        "# Using SGD\n",
        "optimizer = SGD(lr=0.01)\n",
        "\n",
        "# MLP\n",
        "mlp_model_sgd, mlp_hs_sgd = train_model(\n",
        "    train_data=x_train,\n",
        "    train_labels=y_train,\n",
        "    optimizer=optimizer,\n",
        "    epochs=epochs,\n",
        "    batch_size=batch_size,\n",
        "    hidden_layers=1,\n",
        "    hidden_activation='relu',\n",
        "    output_activation='softmax'\n",
        ")\n",
        "\n",
        "# Evaluate on test data and show all the results.\n",
        "mlp_eval_sgd = mlp_model_sgd.evaluate(x_test, y_test, verbose=1)\n",
        "clean_up(model=mlp_model_sgd)"
      ],
      "execution_count": null,
      "outputs": []
    },
    {
      "cell_type": "code",
      "metadata": {
        "id": "sC_Z9C9v2DL-"
      },
      "source": [
        "tf.keras.utils.plot_model(mlp_model_sgd, show_shapes=True)"
      ],
      "execution_count": null,
      "outputs": []
    },
    {
      "cell_type": "code",
      "metadata": {
        "id": "DB-UNkfz4m5t"
      },
      "source": [
        "print(\"Train Loss     : {0:.5f}\".format(mlp_hs_sgd.history['loss'][-1]))\n",
        "print(\"Validation Loss: {0:.5f}\".format(mlp_hs_sgd.history['val_loss'][-1]))\n",
        "print(\"Test Loss      : {0:.5f}\".format(mlp_eval_sgd[0]))\n",
        "print(\"---\")\n",
        "print(\"Train Accuracy     : {0:.5f}\".format(mlp_hs_sgd.history['accuracy'][-1]))\n",
        "print(\"Validation Accuracy: {0:.5f}\".format(mlp_hs_sgd.history['val_accuracy'][-1]))\n",
        "print(\"Test Accuracy      : {0:.5f}\".format(mlp_eval_sgd[1]))\n",
        "\n",
        "# Plot train and validation error per epoch.\n",
        "plot_history(hs={'MLP': mlp_hs_sgd}, epochs=epochs, metric='loss')\n",
        "plot_history(hs={'MLP': mlp_hs_sgd}, epochs=epochs, metric='accuracy')"
      ],
      "execution_count": null,
      "outputs": []
    },
    {
      "cell_type": "code",
      "metadata": {
        "id": "HKigtYJ1ysd3"
      },
      "source": [
        "# Using SGD\n",
        "optimizer = SGD(lr=0.01)\n",
        "\n",
        "# MLP\n",
        "mlp2_model_sgd, mlp2_hs_sgd = train_model(\n",
        "    train_data=x_train,\n",
        "    train_labels=y_train,\n",
        "    optimizer=optimizer,\n",
        "    epochs=epochs,\n",
        "    batch_size=batch_size,\n",
        "    hidden_layers=2,\n",
        "    hidden_activation='relu',\n",
        "    output_activation='softmax'\n",
        ")\n",
        "\n",
        "# Evaluate on test data and show all the results.\n",
        "mlp2_eval_sgd = mlp2_model_sgd.evaluate(x_test, y_test, verbose=1)\n",
        "clean_up(model=mlp2_model_sgd)"
      ],
      "execution_count": null,
      "outputs": []
    },
    {
      "cell_type": "code",
      "metadata": {
        "id": "KuuQK9Ex2GSb"
      },
      "source": [
        "tf.keras.utils.plot_model(mlp2_model_sgd, show_shapes=True)\n"
      ],
      "execution_count": null,
      "outputs": []
    },
    {
      "cell_type": "code",
      "metadata": {
        "id": "IvSfdRJK4yL5"
      },
      "source": [
        "print(\"Train Loss     : {0:.5f}\".format(mlp2_hs_sgd.history['loss'][-1]))\n",
        "print(\"Validation Loss: {0:.5f}\".format(mlp2_hs_sgd.history['val_loss'][-1]))\n",
        "print(\"Test Loss      : {0:.5f}\".format(mlp2_eval_sgd[0]))\n",
        "print(\"---\")\n",
        "print(\"Train Accuracy     : {0:.5f}\".format(mlp2_hs_sgd.history['accuracy'][-1]))\n",
        "print(\"Validation Accuracy: {0:.5f}\".format(mlp2_hs_sgd.history['val_accuracy'][-1]))\n",
        "print(\"Test Accuracy      : {0:.5f}\".format(mlp2_eval_sgd[1]))\n",
        "\n",
        "# Plot train and validation error per epoch.\n",
        "plot_history(hs={'MLP': mlp_hs_sgd,'MLP2': mlp2_hs_sgd}, epochs=epochs, metric='loss')\n",
        "plot_history(hs={'MLP': mlp_hs_sgd, 'MLP2': mlp2_hs_sgd}, epochs=epochs, metric='accuracy')"
      ],
      "execution_count": null,
      "outputs": []
    },
    {
      "cell_type": "code",
      "metadata": {
        "id": "9Em0NqVw4GVh"
      },
      "source": [
        "# Using SGD\n",
        "optimizer = SGD(lr=0.01)\n",
        "\n",
        "# MLP\n",
        "mlp3_model_sgd, mlp3_hs_sgd = train_model(\n",
        "    train_data=x_train,\n",
        "    train_labels=y_train,\n",
        "    optimizer=optimizer,\n",
        "    epochs=epochs,\n",
        "    batch_size=batch_size,\n",
        "    hidden_layers=3,\n",
        "    hidden_activation='relu',\n",
        "    output_activation='softmax'\n",
        ")\n",
        "\n",
        "# Evaluate on test data and show all the results.\n",
        "mlp3_eval_sgd = mlp3_model_sgd.evaluate(x_test, y_test, verbose=1)\n",
        "clean_up(model=mlp3_model_sgd)"
      ],
      "execution_count": null,
      "outputs": []
    },
    {
      "cell_type": "code",
      "metadata": {
        "id": "U3DiD7yAzlZF"
      },
      "source": [
        "tf.keras.utils.plot_model(mlp3_model_sgd, show_shapes=True)"
      ],
      "execution_count": null,
      "outputs": []
    },
    {
      "cell_type": "code",
      "metadata": {
        "id": "LbbtCZl6ywgN"
      },
      "source": [
        "print(\"Train Loss     : {0:.5f}\".format(mlp3_hs_sgd.history['loss'][-1]))\n",
        "print(\"Validation Loss: {0:.5f}\".format(mlp3_hs_sgd.history['val_loss'][-1]))\n",
        "print(\"Test Loss      : {0:.5f}\".format(mlp_eval_sgd[0]))\n",
        "print(\"---\")\n",
        "print(\"Train Accuracy     : {0:.5f}\".format(mlp3_hs_sgd.history['accuracy'][-1]))\n",
        "print(\"Validation Accuracy: {0:.5f}\".format(mlp3_hs_sgd.history['val_accuracy'][-1]))\n",
        "print(\"Test Accuracy      : {0:.5f}\".format(mlp_eval_sgd[1]))\n",
        "\n",
        "# Plot train and validation error per epoch.\n",
        "plot_history(hs={'MLP2': mlp2_hs_sgd,'MLP3': mlp3_hs_sgd}, epochs=epochs, metric='loss')\n",
        "plot_history(hs={'MLP2': mlp2_hs_sgd,'MLP3': mlp3_hs_sgd}, epochs=epochs, metric='accuracy')"
      ],
      "execution_count": null,
      "outputs": []
    },
    {
      "cell_type": "markdown",
      "metadata": {
        "id": "YJGDnnE8ALFh"
      },
      "source": [
        "### ADAM\n"
      ]
    },
    {
      "cell_type": "code",
      "metadata": {
        "id": "E_10STOIAMpr"
      },
      "source": [
        "# Using Adam\n",
        "optimizer = Adam()\n",
        "\n",
        "# MLP\n",
        "mlp_model_adam, mlp_hs_adam = train_model(\n",
        "    train_data=x_train,\n",
        "    train_labels=y_train,\n",
        "    optimizer=optimizer,\n",
        "    epochs=epochs,\n",
        "    batch_size=batch_size,\n",
        "    hidden_layers=1,\n",
        "    hidden_activation='relu',\n",
        "    output_activation='softmax'\n",
        ")\n",
        "\n",
        "# Evaluate on test data and show all the results.\n",
        "mlp_eval_adam = mlp_model_adam.evaluate(x_test, y_test, verbose=1)\n",
        "clean_up(model=mlp_model_adam)"
      ],
      "execution_count": null,
      "outputs": []
    },
    {
      "cell_type": "code",
      "metadata": {
        "id": "narpXmKNA0EM"
      },
      "source": [
        "tf.keras.utils.plot_model(mlp_model_adam, show_shapes=True)\n"
      ],
      "execution_count": null,
      "outputs": []
    },
    {
      "cell_type": "code",
      "metadata": {
        "id": "uON7cG6gAYcS"
      },
      "source": [
        "# Using Adam\n",
        "optimizer = Adam()\n",
        "\n",
        "# MLP\n",
        "mlp2_model_adam, mlp2_hs_adam = train_model(\n",
        "    train_data=x_train,\n",
        "    train_labels=y_train,\n",
        "    optimizer=optimizer,\n",
        "    epochs=epochs,\n",
        "    batch_size=batch_size,\n",
        "    hidden_layers=2,\n",
        "    hidden_activation='relu',\n",
        "    output_activation='softmax'\n",
        ")\n",
        "\n",
        "# Evaluate on test data and show all the results.\n",
        "mlp2_eval_adam = mlp2_model_adam.evaluate(x_test, y_test, verbose=1)\n",
        "clean_up(model=mlp2_model_adam)"
      ],
      "execution_count": null,
      "outputs": []
    },
    {
      "cell_type": "code",
      "metadata": {
        "id": "unTNq7CWA3LI"
      },
      "source": [
        "tf.keras.utils.plot_model(mlp2_model_adam, show_shapes=True)"
      ],
      "execution_count": null,
      "outputs": []
    },
    {
      "cell_type": "code",
      "metadata": {
        "id": "0GEyr2o9AZhx"
      },
      "source": [
        "# Using Adam\n",
        "optimizer = Adam()\n",
        "\n",
        "# MLP\n",
        "mlp3_model_adam, mlp3_hs_adam = train_model(\n",
        "    train_data=x_train,\n",
        "    train_labels=y_train,\n",
        "    optimizer=optimizer,\n",
        "    epochs=epochs,\n",
        "    batch_size=batch_size,\n",
        "    hidden_layers=3,\n",
        "    hidden_activation='relu',\n",
        "    output_activation='softmax'\n",
        ")\n",
        "\n",
        "# Evaluate on test data and show all the results.\n",
        "mlp3_eval_adam = mlp3_model_adam.evaluate(x_test, y_test, verbose=1)\n",
        "clean_up(model=mlp3_model_adam)"
      ],
      "execution_count": null,
      "outputs": []
    },
    {
      "cell_type": "code",
      "metadata": {
        "id": "i3MjjQ6gA4mu"
      },
      "source": [
        "tf.keras.utils.plot_model(mlp3_model_adam, show_shapes=True)\n"
      ],
      "execution_count": null,
      "outputs": []
    },
    {
      "cell_type": "code",
      "metadata": {
        "id": "D5DaqDnpEiKX"
      },
      "source": [
        "print(\"========== MLP ==========\")\n",
        "print(\"Train Loss     : {0:.5f}\".format(mlp_hs_adam.history['loss'][-1]))\n",
        "print(\"Validation Loss: {0:.5f}\".format(mlp_hs_adam.history['val_loss'][-1]))\n",
        "print(\"Test Loss      : {0:.5f}\".format(mlp_eval_adam[0]))\n",
        "print(\"---\")\n",
        "print(\"Train Accuracy     : {0:.5f}\".format(mlp_hs_adam.history['accuracy'][-1]))\n",
        "print(\"Validation Accuracy: {0:.5f}\".format(mlp_hs_adam.history['val_accuracy'][-1]))\n",
        "print(\"Test Accuracy      : {0:.5f}\".format(mlp_eval_adam[1]))\n",
        "\n",
        "print(\"========== MLP2 ==========\")\n",
        "\n",
        "print(\"Train Loss     : {0:.5f}\".format(mlp2_hs_adam.history['loss'][-1]))\n",
        "print(\"Validation Loss: {0:.5f}\".format(mlp2_hs_adam.history['val_loss'][-1]))\n",
        "print(\"Test Loss      : {0:.5f}\".format(mlp2_eval_adam[0]))\n",
        "print(\"---\")\n",
        "print(\"Train Accuracy     : {0:.5f}\".format(mlp2_hs_adam.history['accuracy'][-1]))\n",
        "print(\"Validation Accuracy: {0:.5f}\".format(mlp2_hs_adam.history['val_accuracy'][-1]))\n",
        "print(\"Test Accuracy      : {0:.5f}\".format(mlp2_eval_adam[1]))\n",
        "\n",
        "print(\"========== MLP3 ==========\")\n",
        "\n",
        "print(\"Train Loss     : {0:.5f}\".format(mlp3_hs_adam.history['loss'][-1]))\n",
        "print(\"Validation Loss: {0:.5f}\".format(mlp3_hs_adam.history['val_loss'][-1]))\n",
        "print(\"Test Loss      : {0:.5f}\".format(mlp3_eval_adam[0]))\n",
        "print(\"---\")\n",
        "print(\"Train Accuracy     : {0:.5f}\".format(mlp3_hs_adam.history['accuracy'][-1]))\n",
        "print(\"Validation Accuracy: {0:.5f}\".format(mlp3_hs_adam.history['val_accuracy'][-1]))\n",
        "print(\"Test Accuracy      : {0:.5f}\".format(mlp3_eval_adam[1]))\n",
        "\n",
        "\n",
        "# Plot train and validation error per epoch.\n",
        "plot_history(hs={'MLP': mlp_hs_adam, 'MLP2': mlp2_hs_adam, 'MLP3': mlp3_hs_adam}, epochs=epochs, metric='loss')\n",
        "plot_history(hs={'MLP': mlp_hs_adam, 'MLP2': mlp2_hs_adam, 'MLP3': mlp3_hs_adam}, epochs=epochs, metric='accuracy')"
      ],
      "execution_count": null,
      "outputs": []
    },
    {
      "cell_type": "code",
      "metadata": {
        "id": "KQhuXxzKXo_u"
      },
      "source": [
        "mlp2_hs_sgd"
      ],
      "execution_count": null,
      "outputs": []
    }
  ]
}